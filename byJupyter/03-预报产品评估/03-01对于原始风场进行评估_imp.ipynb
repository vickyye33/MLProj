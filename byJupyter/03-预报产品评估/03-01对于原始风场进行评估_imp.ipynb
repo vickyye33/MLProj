{
 "cells": [
  {
   "cell_type": "code",
   "execution_count": 2,
   "id": "98434956",
   "metadata": {},
   "outputs": [],
   "source": [
    "import csv\n",
    "from typing import Optional\n",
    "import random\n",
    "import arrow\n",
    "import numpy as np\n",
    "import pandas as pd\n",
    "import tensorflow as tf\n",
    "from keras import Sequential\n",
    "from pandas import DatetimeIndex\n",
    "from sklearn.model_selection import train_test_split\n",
    "from sklearn.metrics import mean_squared_error\n",
    "# 可视化结果（如果需要）\n",
    "import matplotlib.pyplot as plt\n",
    "import os\n",
    "import pathlib\n",
    "import xml.etree.ElementTree as ET\n",
    "import xarray as xr\n",
    "import codecs\n",
    "import datetime\n",
    "\n",
    "# 先从海浪数据中提取出经纬度，时间，风，海浪高度\n",
    "# 解析单个文件，并存于字典内\n",
    "from sklearn.preprocessing import StandardScaler\n",
    "# from tensorflow.keras.callbacks import EarlyStopping\n",
    "from sklearn.preprocessing import MinMaxScaler\n",
    "import sys"
   ]
  },
  {
   "cell_type": "markdown",
   "id": "e018c1d9",
   "metadata": {},
   "source": [
    "#### step1: 加载原始数据"
   ]
  },
  {
   "cell_type": "code",
   "execution_count": 3,
   "id": "6a7f6a89",
   "metadata": {},
   "outputs": [],
   "source": [
    "read_path_realdata:str=r'Z:\\SOURCE_MERGE_DATA\\2024_local_df_utc_183.csv'\n",
    "read_path_forecast:str=r'Z:\\SOURCE_MERGE_DATA\\df_ws_forecast.csv'"
   ]
  },
  {
   "cell_type": "code",
   "execution_count": 4,
   "id": "d4047538",
   "metadata": {},
   "outputs": [],
   "source": [
    "df_forecast=pd.read_csv(read_path_forecast,encoding='utf-8',index_col=0)\n",
    "df_realdata=pd.read_csv(read_path_realdata,encoding='utf-8',index_col=0)"
   ]
  },
  {
   "cell_type": "markdown",
   "id": "82fc5a47",
   "metadata": {},
   "source": [
    "注意 realdata 中可能存在0值，需要剔除  \n",
    "以及超出阈值的赋值为nan"
   ]
  },
  {
   "cell_type": "code",
   "execution_count": 5,
   "id": "f183f6dc",
   "metadata": {},
   "outputs": [],
   "source": [
    "df_realdata=df_realdata.replace(0, np.nan)\n",
    "df_realdata[df_realdata>=30]=np.nan"
   ]
  },
  {
   "cell_type": "markdown",
   "id": "647b0377",
   "metadata": {},
   "source": [
    "#### step2: 求`预报`与`实况`数据的`RMSE`  \n",
    "此处计算有问题"
   ]
  },
  {
   "cell_type": "code",
   "execution_count": 6,
   "id": "6b4e39c5",
   "metadata": {},
   "outputs": [
    {
     "data": {
      "text/plain": [
       "(183, 732)"
      ]
     },
     "execution_count": 6,
     "metadata": {},
     "output_type": "execute_result"
    }
   ],
   "source": [
    "df_realdata.shape"
   ]
  },
  {
   "cell_type": "markdown",
   "id": "19b525ec",
   "metadata": {},
   "source": [
    "* 对于实况数据需要按照时间步长取值  \n",
    "注意使用 `.iloc[::number,:]` 进行取值后 index 为`[0,3,6,9,12,....]`"
   ]
  },
  {
   "cell_type": "code",
   "execution_count": 13,
   "id": "e6cf052f",
   "metadata": {},
   "outputs": [
    {
     "data": {
      "text/html": [
       "<div>\n",
       "<style scoped>\n",
       "    .dataframe tbody tr th:only-of-type {\n",
       "        vertical-align: middle;\n",
       "    }\n",
       "\n",
       "    .dataframe tbody tr th {\n",
       "        vertical-align: top;\n",
       "    }\n",
       "\n",
       "    .dataframe thead th {\n",
       "        text-align: right;\n",
       "    }\n",
       "</style>\n",
       "<table border=\"1\" class=\"dataframe\">\n",
       "  <thead>\n",
       "    <tr style=\"text-align: right;\">\n",
       "      <th></th>\n",
       "      <th>2024-01-01 00:00:00</th>\n",
       "      <th>2024-01-01 12:00:00</th>\n",
       "      <th>2024-01-02 00:00:00</th>\n",
       "      <th>2024-01-02 12:00:00</th>\n",
       "      <th>2024-01-03 00:00:00</th>\n",
       "      <th>2024-01-03 12:00:00</th>\n",
       "      <th>2024-01-04 00:00:00</th>\n",
       "      <th>2024-01-04 12:00:00</th>\n",
       "      <th>2024-01-05 00:00:00</th>\n",
       "      <th>2024-01-05 12:00:00</th>\n",
       "      <th>...</th>\n",
       "      <th>2024-12-27 00:00:00</th>\n",
       "      <th>2024-12-27 12:00:00</th>\n",
       "      <th>2024-12-28 00:00:00</th>\n",
       "      <th>2024-12-28 12:00:00</th>\n",
       "      <th>2024-12-29 00:00:00</th>\n",
       "      <th>2024-12-29 12:00:00</th>\n",
       "      <th>2024-12-30 00:00:00</th>\n",
       "      <th>2024-12-30 12:00:00</th>\n",
       "      <th>2024-12-31 00:00:00</th>\n",
       "      <th>2024-12-31 12:00:00</th>\n",
       "    </tr>\n",
       "  </thead>\n",
       "  <tbody>\n",
       "    <tr>\n",
       "      <th>0</th>\n",
       "      <td>4.0</td>\n",
       "      <td>12.8</td>\n",
       "      <td>4.5</td>\n",
       "      <td>2.4</td>\n",
       "      <td>8.8</td>\n",
       "      <td>9.1</td>\n",
       "      <td>11.8</td>\n",
       "      <td>9.1</td>\n",
       "      <td>4.7</td>\n",
       "      <td>5.6</td>\n",
       "      <td>...</td>\n",
       "      <td>8.6</td>\n",
       "      <td>8.8</td>\n",
       "      <td>9.5</td>\n",
       "      <td>5.7</td>\n",
       "      <td>7.2</td>\n",
       "      <td>8.5</td>\n",
       "      <td>8.2</td>\n",
       "      <td>9.7</td>\n",
       "      <td>1.7</td>\n",
       "      <td>12.0</td>\n",
       "    </tr>\n",
       "    <tr>\n",
       "      <th>3</th>\n",
       "      <td>NaN</td>\n",
       "      <td>9.3</td>\n",
       "      <td>NaN</td>\n",
       "      <td>4.6</td>\n",
       "      <td>NaN</td>\n",
       "      <td>9.6</td>\n",
       "      <td>NaN</td>\n",
       "      <td>7.5</td>\n",
       "      <td>NaN</td>\n",
       "      <td>6.5</td>\n",
       "      <td>...</td>\n",
       "      <td>7.0</td>\n",
       "      <td>9.2</td>\n",
       "      <td>7.1</td>\n",
       "      <td>5.3</td>\n",
       "      <td>9.5</td>\n",
       "      <td>8.9</td>\n",
       "      <td>7.6</td>\n",
       "      <td>5.6</td>\n",
       "      <td>4.8</td>\n",
       "      <td>8.8</td>\n",
       "    </tr>\n",
       "    <tr>\n",
       "      <th>6</th>\n",
       "      <td>10.6</td>\n",
       "      <td>10.8</td>\n",
       "      <td>1.7</td>\n",
       "      <td>2.7</td>\n",
       "      <td>1.2</td>\n",
       "      <td>9.4</td>\n",
       "      <td>6.8</td>\n",
       "      <td>7.2</td>\n",
       "      <td>2.4</td>\n",
       "      <td>5.9</td>\n",
       "      <td>...</td>\n",
       "      <td>6.6</td>\n",
       "      <td>7.6</td>\n",
       "      <td>7.7</td>\n",
       "      <td>4.5</td>\n",
       "      <td>11.2</td>\n",
       "      <td>10.8</td>\n",
       "      <td>3.9</td>\n",
       "      <td>7.5</td>\n",
       "      <td>10.0</td>\n",
       "      <td>NaN</td>\n",
       "    </tr>\n",
       "    <tr>\n",
       "      <th>9</th>\n",
       "      <td>11.9</td>\n",
       "      <td>8.6</td>\n",
       "      <td>2.8</td>\n",
       "      <td>6.1</td>\n",
       "      <td>5.8</td>\n",
       "      <td>11.7</td>\n",
       "      <td>8.2</td>\n",
       "      <td>8.4</td>\n",
       "      <td>3.9</td>\n",
       "      <td>6.6</td>\n",
       "      <td>...</td>\n",
       "      <td>6.7</td>\n",
       "      <td>7.6</td>\n",
       "      <td>7.0</td>\n",
       "      <td>6.6</td>\n",
       "      <td>11.1</td>\n",
       "      <td>10.3</td>\n",
       "      <td>3.7</td>\n",
       "      <td>4.8</td>\n",
       "      <td>12.5</td>\n",
       "      <td>NaN</td>\n",
       "    </tr>\n",
       "    <tr>\n",
       "      <th>12</th>\n",
       "      <td>12.8</td>\n",
       "      <td>4.5</td>\n",
       "      <td>2.4</td>\n",
       "      <td>8.8</td>\n",
       "      <td>9.1</td>\n",
       "      <td>11.8</td>\n",
       "      <td>9.1</td>\n",
       "      <td>4.7</td>\n",
       "      <td>5.6</td>\n",
       "      <td>9.5</td>\n",
       "      <td>...</td>\n",
       "      <td>8.8</td>\n",
       "      <td>9.5</td>\n",
       "      <td>5.7</td>\n",
       "      <td>7.2</td>\n",
       "      <td>8.5</td>\n",
       "      <td>8.2</td>\n",
       "      <td>9.7</td>\n",
       "      <td>1.7</td>\n",
       "      <td>12.0</td>\n",
       "      <td>NaN</td>\n",
       "    </tr>\n",
       "    <tr>\n",
       "      <th>...</th>\n",
       "      <td>...</td>\n",
       "      <td>...</td>\n",
       "      <td>...</td>\n",
       "      <td>...</td>\n",
       "      <td>...</td>\n",
       "      <td>...</td>\n",
       "      <td>...</td>\n",
       "      <td>...</td>\n",
       "      <td>...</td>\n",
       "      <td>...</td>\n",
       "      <td>...</td>\n",
       "      <td>...</td>\n",
       "      <td>...</td>\n",
       "      <td>...</td>\n",
       "      <td>...</td>\n",
       "      <td>...</td>\n",
       "      <td>...</td>\n",
       "      <td>...</td>\n",
       "      <td>...</td>\n",
       "      <td>...</td>\n",
       "      <td>...</td>\n",
       "    </tr>\n",
       "    <tr>\n",
       "      <th>168</th>\n",
       "      <td>9.3</td>\n",
       "      <td>9.0</td>\n",
       "      <td>13.0</td>\n",
       "      <td>11.5</td>\n",
       "      <td>1.6</td>\n",
       "      <td>13.1</td>\n",
       "      <td>12.1</td>\n",
       "      <td>4.8</td>\n",
       "      <td>2.6</td>\n",
       "      <td>0.6</td>\n",
       "      <td>...</td>\n",
       "      <td>NaN</td>\n",
       "      <td>NaN</td>\n",
       "      <td>NaN</td>\n",
       "      <td>NaN</td>\n",
       "      <td>NaN</td>\n",
       "      <td>NaN</td>\n",
       "      <td>NaN</td>\n",
       "      <td>NaN</td>\n",
       "      <td>NaN</td>\n",
       "      <td>NaN</td>\n",
       "    </tr>\n",
       "    <tr>\n",
       "      <th>171</th>\n",
       "      <td>NaN</td>\n",
       "      <td>6.6</td>\n",
       "      <td>NaN</td>\n",
       "      <td>9.7</td>\n",
       "      <td>NaN</td>\n",
       "      <td>12.2</td>\n",
       "      <td>NaN</td>\n",
       "      <td>4.1</td>\n",
       "      <td>NaN</td>\n",
       "      <td>9.4</td>\n",
       "      <td>...</td>\n",
       "      <td>NaN</td>\n",
       "      <td>NaN</td>\n",
       "      <td>NaN</td>\n",
       "      <td>NaN</td>\n",
       "      <td>NaN</td>\n",
       "      <td>NaN</td>\n",
       "      <td>NaN</td>\n",
       "      <td>NaN</td>\n",
       "      <td>NaN</td>\n",
       "      <td>NaN</td>\n",
       "    </tr>\n",
       "    <tr>\n",
       "      <th>174</th>\n",
       "      <td>11.0</td>\n",
       "      <td>4.5</td>\n",
       "      <td>12.5</td>\n",
       "      <td>5.7</td>\n",
       "      <td>10.6</td>\n",
       "      <td>12.2</td>\n",
       "      <td>3.2</td>\n",
       "      <td>4.8</td>\n",
       "      <td>0.2</td>\n",
       "      <td>10.8</td>\n",
       "      <td>...</td>\n",
       "      <td>NaN</td>\n",
       "      <td>NaN</td>\n",
       "      <td>NaN</td>\n",
       "      <td>NaN</td>\n",
       "      <td>NaN</td>\n",
       "      <td>NaN</td>\n",
       "      <td>NaN</td>\n",
       "      <td>NaN</td>\n",
       "      <td>NaN</td>\n",
       "      <td>NaN</td>\n",
       "    </tr>\n",
       "    <tr>\n",
       "      <th>177</th>\n",
       "      <td>7.7</td>\n",
       "      <td>11.4</td>\n",
       "      <td>11.4</td>\n",
       "      <td>2.1</td>\n",
       "      <td>11.6</td>\n",
       "      <td>11.4</td>\n",
       "      <td>3.0</td>\n",
       "      <td>4.2</td>\n",
       "      <td>1.7</td>\n",
       "      <td>10.7</td>\n",
       "      <td>...</td>\n",
       "      <td>NaN</td>\n",
       "      <td>NaN</td>\n",
       "      <td>NaN</td>\n",
       "      <td>NaN</td>\n",
       "      <td>NaN</td>\n",
       "      <td>NaN</td>\n",
       "      <td>NaN</td>\n",
       "      <td>NaN</td>\n",
       "      <td>NaN</td>\n",
       "      <td>NaN</td>\n",
       "    </tr>\n",
       "    <tr>\n",
       "      <th>180</th>\n",
       "      <td>9.0</td>\n",
       "      <td>13.0</td>\n",
       "      <td>11.5</td>\n",
       "      <td>1.6</td>\n",
       "      <td>13.1</td>\n",
       "      <td>12.1</td>\n",
       "      <td>4.8</td>\n",
       "      <td>2.6</td>\n",
       "      <td>0.6</td>\n",
       "      <td>10.0</td>\n",
       "      <td>...</td>\n",
       "      <td>NaN</td>\n",
       "      <td>NaN</td>\n",
       "      <td>NaN</td>\n",
       "      <td>NaN</td>\n",
       "      <td>NaN</td>\n",
       "      <td>NaN</td>\n",
       "      <td>NaN</td>\n",
       "      <td>NaN</td>\n",
       "      <td>NaN</td>\n",
       "      <td>NaN</td>\n",
       "    </tr>\n",
       "  </tbody>\n",
       "</table>\n",
       "<p>61 rows × 732 columns</p>\n",
       "</div>"
      ],
      "text/plain": [
       "     2024-01-01 00:00:00  2024-01-01 12:00:00  2024-01-02 00:00:00  \\\n",
       "0                    4.0                 12.8                  4.5   \n",
       "3                    NaN                  9.3                  NaN   \n",
       "6                   10.6                 10.8                  1.7   \n",
       "9                   11.9                  8.6                  2.8   \n",
       "12                  12.8                  4.5                  2.4   \n",
       "..                   ...                  ...                  ...   \n",
       "168                  9.3                  9.0                 13.0   \n",
       "171                  NaN                  6.6                  NaN   \n",
       "174                 11.0                  4.5                 12.5   \n",
       "177                  7.7                 11.4                 11.4   \n",
       "180                  9.0                 13.0                 11.5   \n",
       "\n",
       "     2024-01-02 12:00:00  2024-01-03 00:00:00  2024-01-03 12:00:00  \\\n",
       "0                    2.4                  8.8                  9.1   \n",
       "3                    4.6                  NaN                  9.6   \n",
       "6                    2.7                  1.2                  9.4   \n",
       "9                    6.1                  5.8                 11.7   \n",
       "12                   8.8                  9.1                 11.8   \n",
       "..                   ...                  ...                  ...   \n",
       "168                 11.5                  1.6                 13.1   \n",
       "171                  9.7                  NaN                 12.2   \n",
       "174                  5.7                 10.6                 12.2   \n",
       "177                  2.1                 11.6                 11.4   \n",
       "180                  1.6                 13.1                 12.1   \n",
       "\n",
       "     2024-01-04 00:00:00  2024-01-04 12:00:00  2024-01-05 00:00:00  \\\n",
       "0                   11.8                  9.1                  4.7   \n",
       "3                    NaN                  7.5                  NaN   \n",
       "6                    6.8                  7.2                  2.4   \n",
       "9                    8.2                  8.4                  3.9   \n",
       "12                   9.1                  4.7                  5.6   \n",
       "..                   ...                  ...                  ...   \n",
       "168                 12.1                  4.8                  2.6   \n",
       "171                  NaN                  4.1                  NaN   \n",
       "174                  3.2                  4.8                  0.2   \n",
       "177                  3.0                  4.2                  1.7   \n",
       "180                  4.8                  2.6                  0.6   \n",
       "\n",
       "     2024-01-05 12:00:00  ...  2024-12-27 00:00:00  2024-12-27 12:00:00  \\\n",
       "0                    5.6  ...                  8.6                  8.8   \n",
       "3                    6.5  ...                  7.0                  9.2   \n",
       "6                    5.9  ...                  6.6                  7.6   \n",
       "9                    6.6  ...                  6.7                  7.6   \n",
       "12                   9.5  ...                  8.8                  9.5   \n",
       "..                   ...  ...                  ...                  ...   \n",
       "168                  0.6  ...                  NaN                  NaN   \n",
       "171                  9.4  ...                  NaN                  NaN   \n",
       "174                 10.8  ...                  NaN                  NaN   \n",
       "177                 10.7  ...                  NaN                  NaN   \n",
       "180                 10.0  ...                  NaN                  NaN   \n",
       "\n",
       "     2024-12-28 00:00:00  2024-12-28 12:00:00  2024-12-29 00:00:00  \\\n",
       "0                    9.5                  5.7                  7.2   \n",
       "3                    7.1                  5.3                  9.5   \n",
       "6                    7.7                  4.5                 11.2   \n",
       "9                    7.0                  6.6                 11.1   \n",
       "12                   5.7                  7.2                  8.5   \n",
       "..                   ...                  ...                  ...   \n",
       "168                  NaN                  NaN                  NaN   \n",
       "171                  NaN                  NaN                  NaN   \n",
       "174                  NaN                  NaN                  NaN   \n",
       "177                  NaN                  NaN                  NaN   \n",
       "180                  NaN                  NaN                  NaN   \n",
       "\n",
       "     2024-12-29 12:00:00  2024-12-30 00:00:00  2024-12-30 12:00:00  \\\n",
       "0                    8.5                  8.2                  9.7   \n",
       "3                    8.9                  7.6                  5.6   \n",
       "6                   10.8                  3.9                  7.5   \n",
       "9                   10.3                  3.7                  4.8   \n",
       "12                   8.2                  9.7                  1.7   \n",
       "..                   ...                  ...                  ...   \n",
       "168                  NaN                  NaN                  NaN   \n",
       "171                  NaN                  NaN                  NaN   \n",
       "174                  NaN                  NaN                  NaN   \n",
       "177                  NaN                  NaN                  NaN   \n",
       "180                  NaN                  NaN                  NaN   \n",
       "\n",
       "     2024-12-31 00:00:00  2024-12-31 12:00:00  \n",
       "0                    1.7                 12.0  \n",
       "3                    4.8                  8.8  \n",
       "6                   10.0                  NaN  \n",
       "9                   12.5                  NaN  \n",
       "12                  12.0                  NaN  \n",
       "..                   ...                  ...  \n",
       "168                  NaN                  NaN  \n",
       "171                  NaN                  NaN  \n",
       "174                  NaN                  NaN  \n",
       "177                  NaN                  NaN  \n",
       "180                  NaN                  NaN  \n",
       "\n",
       "[61 rows x 732 columns]"
      ]
     },
     "execution_count": 13,
     "metadata": {},
     "output_type": "execute_result"
    }
   ],
   "source": [
    "df_realdata.iloc[::3,:]"
   ]
  },
  {
   "cell_type": "code",
   "execution_count": 14,
   "id": "22087e2b",
   "metadata": {},
   "outputs": [],
   "source": [
    "df_realdata_split=df_realdata.iloc[::3,:].reset_index(drop=True)"
   ]
  },
  {
   "cell_type": "code",
   "execution_count": 15,
   "id": "d28ccd6e",
   "metadata": {},
   "outputs": [
    {
     "data": {
      "text/plain": [
       "(61, 732)"
      ]
     },
     "execution_count": 15,
     "metadata": {},
     "output_type": "execute_result"
    }
   ],
   "source": [
    "df_realdata_split.shape"
   ]
  },
  {
   "cell_type": "code",
   "execution_count": 21,
   "id": "35a9b953",
   "metadata": {},
   "outputs": [
    {
     "data": {
      "text/plain": [
       "(72, 732)"
      ]
     },
     "execution_count": 21,
     "metadata": {},
     "output_type": "execute_result"
    }
   ],
   "source": [
    "df_forecast.shape"
   ]
  },
  {
   "cell_type": "code",
   "execution_count": 10,
   "id": "a8ab88f7",
   "metadata": {},
   "outputs": [],
   "source": [
    "# TODO:[-] 25-06-09 对于实况数据按照3小时分割，方便与预报数据对齐，并存储为标准数据\n",
    "df_realdata_split.to_csv(r'Z:\\SOURCE_MERGE_DATA\\2024_local_df_utc_183_split.csv', encoding='utf-8')"
   ]
  },
  {
   "cell_type": "code",
   "execution_count": 24,
   "id": "390d995b",
   "metadata": {},
   "outputs": [],
   "source": [
    "# 计算差值的平方\n",
    "squared_errors = (df_forecast - df_realdata_split)**2\n",
    "\n",
    "# 计算每列的均方误差 (MSE)\n",
    "mse_per_column = squared_errors.mean(axis=1) # axis=0 表示按列计算均值\n",
    "\n",
    "# 计算每列的均方根误差 (RMSE)\n",
    "rmse = np.sqrt(mse_per_column)\n"
   ]
  },
  {
   "cell_type": "code",
   "execution_count": 28,
   "id": "5e4c0066",
   "metadata": {},
   "outputs": [],
   "source": [
    "# 将结果转换为 DataFrame\n",
    "rmse_df = pd.DataFrame({\n",
    "    'RMSE': rmse\n",
    "})"
   ]
  },
  {
   "cell_type": "code",
   "execution_count": 29,
   "id": "942820e3",
   "metadata": {},
   "outputs": [],
   "source": [
    "rmse_df.to_csv(r'Z:\\03TRAINNING_EVALUATION_DATA\\rmse_forecast_source_250609.csv', index=False)"
   ]
  },
  {
   "cell_type": "code",
   "execution_count": 25,
   "id": "6baaf51b",
   "metadata": {},
   "outputs": [
    {
     "data": {
      "text/plain": [
       "0     1.662859\n",
       "1     1.712192\n",
       "2     1.763515\n",
       "3     1.802188\n",
       "4     1.888382\n",
       "        ...   \n",
       "67         NaN\n",
       "68         NaN\n",
       "69         NaN\n",
       "70         NaN\n",
       "71         NaN\n",
       "Length: 72, dtype: float64"
      ]
     },
     "execution_count": 25,
     "metadata": {},
     "output_type": "execute_result"
    }
   ],
   "source": [
    "rmse"
   ]
  },
  {
   "cell_type": "code",
   "execution_count": 26,
   "id": "2feac1fe",
   "metadata": {},
   "outputs": [
    {
     "data": {
      "image/png": "[encoded data removed]",
      "text/plain": [
       "<Figure size 1000x600 with 1 Axes>"
      ]
     },
     "metadata": {},
     "output_type": "display_data"
    }
   ],
   "source": [
    "plt.figure(figsize=(10,6))\n",
    "plt.plot(rmse.index, rmse.values, marker='o', linestyle='-', color='blue')\n",
    "plt.xlabel('time (0 to 71)')\n",
    "plt.ylabel('RMSE')\n",
    "plt.title('forecast RMSE ')\n",
    "plt.grid(True)\n",
    "plt.show()"
   ]
  },
  {
   "cell_type": "code",
   "execution_count": 91,
   "id": "51043c6c",
   "metadata": {},
   "outputs": [],
   "source": [
    "overall_mean_rmse=rmse.mean()"
   ]
  },
  {
   "cell_type": "code",
   "execution_count": 92,
   "id": "a1bfe80a",
   "metadata": {},
   "outputs": [
    {
     "name": "stdout",
     "output_type": "stream",
     "text": [
      "所有列 RMSE 的均值: 3.2814580084697784\n"
     ]
    }
   ],
   "source": [
    "print(\"所有列 RMSE 的均值:\", overall_mean_rmse)"
   ]
  },
  {
   "cell_type": "markdown",
   "id": "fa44fb88",
   "metadata": {},
   "source": [
    "#### step3: 按照[0,24],[24,48],[48,72] 划分进行RMSE的评估"
   ]
  },
  {
   "cell_type": "code",
   "execution_count": 93,
   "id": "71ca0195",
   "metadata": {},
   "outputs": [],
   "source": [
    "df_realdata_24= df_realdata_split.iloc[:24, :]\n",
    "df_forecast_24= df_forecast.iloc[:24, :]"
   ]
  },
  {
   "cell_type": "code",
   "execution_count": 94,
   "id": "39a92699",
   "metadata": {},
   "outputs": [
    {
     "data": {
      "text/plain": [
       "(24, 732)"
      ]
     },
     "execution_count": 94,
     "metadata": {},
     "output_type": "execute_result"
    }
   ],
   "source": [
    "df_realdata_24.shape"
   ]
  },
  {
   "cell_type": "code",
   "execution_count": 95,
   "id": "00ebf798",
   "metadata": {},
   "outputs": [
    {
     "name": "stdout",
     "output_type": "stream",
     "text": [
      "所有[0,24]列 RMSE 的均值: 0     1.662859\n",
      "1     1.712192\n",
      "2     1.763515\n",
      "3     1.802188\n",
      "4     1.888382\n",
      "5     2.087554\n",
      "6     1.992755\n",
      "7     1.903516\n",
      "8     2.054083\n",
      "9     2.202704\n",
      "10    2.291038\n",
      "11    2.224105\n",
      "12    2.245231\n",
      "13    2.416426\n",
      "14    2.497233\n",
      "15    2.359048\n",
      "16    2.536244\n",
      "17    2.532214\n",
      "18    2.676993\n",
      "19    2.639959\n",
      "20    2.830311\n",
      "21    2.893111\n",
      "22    2.761806\n",
      "23    2.720971\n",
      "dtype: float64\n"
     ]
    }
   ],
   "source": [
    "# 计算差值的平方\n",
    "squared_errors = (df_forecast_24 - df_realdata_24)**2\n",
    "\n",
    "# 计算每列的均方误差 (MSE)\n",
    "mse_per_column = squared_errors.mean(axis=1) # axis=0 表示按列计算均值\n",
    "\n",
    "# 计算每列的均方根误差 (RMSE)\n",
    "rmse = np.sqrt(mse_per_column)\n",
    "print(\"所有[0,24]列 RMSE 的均值:\", rmse)"
   ]
  },
  {
   "cell_type": "markdown",
   "id": "2204a9ea",
   "metadata": {},
   "source": [
    "如上输出的结果可知: 预报时效随着预报时长的增加，均方根误差在增大  \n",
    "从你打印的结果可以观察到以下几点结论：\n",
    "\n",
    "1. **预报误差存在累积效应**  \n",
    "   可以看到，当预报时效从 0 小时时（即对应第一行 RMSE 值约为 1.66）逐渐增加到 23 小时（即最后一行 RMSE 值约为 5.04）时，RMSE 值整体呈现上升趋势。这说明随着预报时间（时效）的增长，误差会不断累积，导致后期预报的不确定性加大，这与大多数气象预报系统的表现是相符的。\n",
    "\n",
    "2. **短时预报准确性较高，长时预报误差较大**  \n",
    "   从 RMSE 随着预报时效的增长增大来看，短时预报（比如前几小时）的 RMSE 较低，预报值与实际值比较接近；而长时预报（比如20小时以后）的 RMSE 较高，说明预测结果与观测之间的差距在扩大。这反映了模型在近时预报上具有较高的准确性，而在较长时效的预报上不确定性较大。\n",
    "\n",
    "3. **细化时效段评估有助于发现模型性能差异**  \n",
    "   通过依次计算每个时效步长（0 至 23 小时）的 RMSE，我们可以详细观察模型在不同预报时效下的表现。如果将所有这些 RMSE 值再求平均，则可以获得一个总体的 24 小时预报均值指标，但更细致地观察各个时效的 RMSE 可以帮助我们定位模型在哪些预测时段表现突出或不足，是进一步改进和优化模型的重要依据。\n",
    "\n",
    "总体而言，从这些 RMSE 数值可以得出结论： **预报系统在非常短时的预报上表现较好，但随着预报时效延长，预测误差逐渐放大，预报不确定性增加。** 这种趋势在风场预报和其他气象预报中都比较常见，并可以用于指导模型的改进和后续误差校正工作。\n",
    "\n",
    "你是否还希望探讨在这种预报评估下如何进一步分解误差来源或引入其他指标（如 MAE 或 bias）来更全面地评估模型性能？"
   ]
  },
  {
   "cell_type": "code",
   "execution_count": 18,
   "id": "c0100e96",
   "metadata": {},
   "outputs": [
    {
     "data": {
      "text/plain": [
       "2024-01-01 00:00:00    5.369119\n",
       "2024-01-01 12:00:00    6.414488\n",
       "2024-01-02 00:00:00    4.536756\n",
       "2024-01-02 12:00:00    3.388340\n",
       "2024-01-03 00:00:00    4.780276\n",
       "                         ...   \n",
       "2024-12-30 00:00:00    2.675565\n",
       "2024-12-30 12:00:00    4.082101\n",
       "2024-12-31 00:00:00    5.627513\n",
       "2024-12-31 12:00:00    1.100302\n",
       "Unnamed: 0                  NaN\n",
       "Length: 733, dtype: float64"
      ]
     },
     "execution_count": 18,
     "metadata": {},
     "output_type": "execute_result"
    }
   ],
   "source": [
    "# 计算差值的平方\n",
    "squared_errors = (df_forecast_24 - df_realdata_24)**2\n",
    "\n",
    "# 计算每列的均方误差 (MSE)\n",
    "mse_per_column = squared_errors.mean(axis=0) # axis=0 表示按列计算均值\n",
    "\n",
    "# 计算每列的均方根误差 (RMSE)\n",
    "rmse = np.sqrt(mse_per_column)\n",
    "rmse"
   ]
  },
  {
   "cell_type": "code",
   "execution_count": 19,
   "id": "b61ad637",
   "metadata": {},
   "outputs": [
    {
     "data": {
      "text/plain": [
       "3.8087684835156104"
      ]
     },
     "execution_count": 19,
     "metadata": {},
     "output_type": "execute_result"
    }
   ],
   "source": [
    "rmse.mean()"
   ]
  },
  {
   "cell_type": "markdown",
   "id": "e83b3b26",
   "metadata": {},
   "source": [
    "#### step5: 查看 48小时 以及 72小时的 `RMSE`"
   ]
  },
  {
   "cell_type": "code",
   "execution_count": 20,
   "id": "b4baef87",
   "metadata": {},
   "outputs": [
    {
     "data": {
      "text/plain": [
       "24    5.008605\n",
       "25    4.972983\n",
       "26    4.886079\n",
       "27    4.704657\n",
       "28    4.874237\n",
       "29    4.869993\n",
       "30    4.822714\n",
       "31    4.785894\n",
       "32    4.804805\n",
       "33    4.828537\n",
       "34    4.818969\n",
       "35    4.886673\n",
       "36    4.916128\n",
       "37    4.927859\n",
       "38    4.881686\n",
       "39    4.738392\n",
       "40    4.919237\n",
       "41    4.845160\n",
       "42    4.992273\n",
       "43    4.831158\n",
       "44    4.813863\n",
       "45    4.923342\n",
       "46    4.912902\n",
       "47    4.863056\n",
       "dtype: float64"
      ]
     },
     "execution_count": 20,
     "metadata": {},
     "output_type": "execute_result"
    }
   ],
   "source": [
    "df_realdata_48= df_realdata.iloc[24:48, :]\n",
    "df_forecast_48= df_forecast.iloc[24:48, :]\n",
    "# 计算差值的平方\n",
    "squared_errors = (df_realdata_48 - df_forecast_48)**2\n",
    "\n",
    "# 计算每列的均方误差 (MSE)\n",
    "mse_per_column = squared_errors.mean(axis=1) # axis=0 表示按列计算均值\n",
    "\n",
    "# 计算每列的均方根误差 (RMSE)\n",
    "rmse = np.sqrt(mse_per_column)\n",
    "rmse"
   ]
  },
  {
   "cell_type": "code",
   "execution_count": 21,
   "id": "58aa170e",
   "metadata": {},
   "outputs": [
    {
     "data": {
      "text/plain": [
       "48    4.962224\n",
       "49    5.085507\n",
       "50    5.172347\n",
       "51    4.876797\n",
       "52    4.967780\n",
       "53    4.769545\n",
       "54    4.934040\n",
       "55    4.831923\n",
       "56    4.999050\n",
       "57    4.953005\n",
       "58    5.018070\n",
       "59    5.030597\n",
       "60    4.934910\n",
       "61         NaN\n",
       "62         NaN\n",
       "63         NaN\n",
       "64         NaN\n",
       "65         NaN\n",
       "66         NaN\n",
       "67         NaN\n",
       "68         NaN\n",
       "69         NaN\n",
       "70         NaN\n",
       "71         NaN\n",
       "dtype: float64"
      ]
     },
     "execution_count": 21,
     "metadata": {},
     "output_type": "execute_result"
    }
   ],
   "source": [
    "df_realdata_72= df_realdata.iloc[48:72, :]\n",
    "df_forecast_72= df_forecast.iloc[48:72, :]\n",
    "# 计算差值的平方\n",
    "squared_errors = (df_realdata_72 - df_forecast_72)**2\n",
    "\n",
    "# 计算每列的均方误差 (MSE)\n",
    "mse_per_column = squared_errors.mean(axis=1) # axis=0 表示按列计算均值\n",
    "\n",
    "# 计算每列的均方根误差 (RMSE)\n",
    "rmse = np.sqrt(mse_per_column)\n",
    "rmse"
   ]
  },
  {
   "cell_type": "markdown",
   "id": "149aea28",
   "metadata": {},
   "source": [
    "从计算结果中，可以归纳出以下几点结论和思考，在比较不同预报时效段的RMSE后，这些信息有助于理解预报模型的性能和数据现状：\n",
    "\n",
    "1. **预报时效增长与误差累积的趋势**  \n",
    "   - 在第一个时效段（对应0至24小时的数据）：从最初的预报（第0小时，RMSE≈1.66）到预报末时（第23小时，RMSE≈5.04），RMSE呈现出明显的上升趋势。这说明预报误差会随着预报时效的增长而累积，不仅仅因为误差传递，还可能反映出模型对后期状态的不确定性增大。  \n",
    "   - 对于第二个时效段（`iloc[24:48]`，得到的一系列结果，其索引从0到23显示的是对应每个小时的误差）：结果同样显示预报时效越长，预报误差越大。这个趋势在数值上与0~24小时段类似，只是总体平均水平可能已经提高。\n",
    "\n",
    "2. **长时预报中部分数据缺失的问题**  \n",
    "   - 对于第三个时效段（对应48至72小时的数据），你计算RMSE时，结果显示前部分有比较稳定的数值（例如索引48到60的RMSE大约在4.9至5.0左右），但从索引61开始直至71，均计算出NaN。这一现象说明在这些时刻可能存在实际观测数据缺失或无效的情况，使得RMSE无法计算。\n",
    "   - 这种数据缺失可能是因为：\n",
    "     - 实际观测数据只覆盖到某一时刻，超出这一范围的部分无法进行验证；\n",
    "     - 或者该时段内原始数据预处理时被剔除了（如异常值较多被置为NaN）。\n",
    "     \n",
    "   数据缺失会使得我们对长时预报的误差评估存在局限性，这需要在数据采集和预处理上进一步核查。\n",
    "\n",
    "3. **预报不确定性和模型性能评估的启示**  \n",
    "   - 总体来看，从短时预报到长时预报，RMSE呈现出逐渐增大的趋势，这是多数数值预报系统中常见的现象，表明随着预报时效延长，模型预测的不确定性越大。\n",
    "   - 对于改进模型或预报系统来说：\n",
    "     - 短时段（0~24小时）的预报已经较为准确，这部分可以作为模型基准；\n",
    "     - 中时段（24~48小时）和长时段（48~72小时）中，误差明显增大，也许需要针对性地优化物理过程、数据同化或预报方法；\n",
    "     - 同时，长时预报中存在的NaN状况提醒我们检查数据完整性与后续验证机制，确保数据覆盖足够支撑对模型长期预报性能的评估。\n",
    "\n",
    "总之，  \n",
    "- **误差随预报时效增长**：短时预报较为准确，长时预报误差较大；  \n",
    "- **部分时段数据缺失问题**：长时预报（48-72小时）部分时刻出现NaN，提示存在实际观测数据不足或预处理的问题。\n",
    "\n",
    "这些结论不仅有助于认识当前预报模型在不同预报时效下的表现，还为后续模型改进、误差校正与数据完善提供了方向。  \n",
    "\n",
    "你是否对如何进一步处理长时缺失数据、或者采用其他指标（如MAE、偏差等）来综合评价预报性能有更多的兴趣呢？"
   ]
  },
  {
   "cell_type": "code",
   "execution_count": 97,
   "id": "52486a50",
   "metadata": {},
   "outputs": [
    {
     "data": {
      "text/plain": [
       "0     1.662859\n",
       "1     1.712192\n",
       "2     1.763515\n",
       "3     1.802188\n",
       "4     1.888382\n",
       "        ...   \n",
       "67         NaN\n",
       "68         NaN\n",
       "69         NaN\n",
       "70         NaN\n",
       "71         NaN\n",
       "Length: 72, dtype: float64"
      ]
     },
     "execution_count": 97,
     "metadata": {},
     "output_type": "execute_result"
    }
   ],
   "source": [
    "# 计算差值的平方\n",
    "squared_errors = (df_forecast - df_realdata_split)**2\n",
    "\n",
    "# 计算每列的均方误差 (MSE)\n",
    "mse_per_column = squared_errors.mean(axis=1) # axis=0 表示按列计算均值\n",
    "\n",
    "# 计算每列的均方根误差 (RMSE)\n",
    "rmse = np.sqrt(mse_per_column)\n",
    "rmse"
   ]
  },
  {
   "cell_type": "code",
   "execution_count": 1,
   "id": "d807d2c3",
   "metadata": {},
   "outputs": [
    {
     "ename": "NameError",
     "evalue": "name 'pd' is not defined",
     "output_type": "error",
     "traceback": [
      "\u001b[1;31m---------------------------------------------------------------------------\u001b[0m",
      "\u001b[1;31mNameError\u001b[0m                                 Traceback (most recent call last)",
      "Cell \u001b[1;32mIn[1], line 2\u001b[0m\n\u001b[0;32m      1\u001b[0m \u001b[38;5;66;03m# 将RMSE存储为csv\u001b[39;00m\n\u001b[1;32m----> 2\u001b[0m rmse_df \u001b[38;5;241m=\u001b[39m \u001b[43mpd\u001b[49m\u001b[38;5;241m.\u001b[39mDataFrame(rmse, columns\u001b[38;5;241m=\u001b[39m[\u001b[38;5;124m'\u001b[39m\u001b[38;5;124mRMSE\u001b[39m\u001b[38;5;124m'\u001b[39m])\n\u001b[0;32m      3\u001b[0m rmse_df\u001b[38;5;241m.\u001b[39mto_csv(\u001b[38;5;124mr\u001b[39m\u001b[38;5;124m'\u001b[39m\u001b[38;5;124mZ:\u001b[39m\u001b[38;5;124m\\\u001b[39m\u001b[38;5;124m03TRAINNING_EVALUATION_DATA\u001b[39m\u001b[38;5;124m\\\u001b[39m\u001b[38;5;124mrmse_forecast_source_250609.csv\u001b[39m\u001b[38;5;124m'\u001b[39m, index\u001b[38;5;241m=\u001b[39m\u001b[38;5;28;01mFalse\u001b[39;00m)\n",
      "\u001b[1;31mNameError\u001b[0m: name 'pd' is not defined"
     ]
    }
   ],
   "source": [
    "# 将RMSE存储为csv\n",
    "rmse_df = pd.DataFrame(rmse, columns=['RMSE'])\n",
    "rmse_df.to_csv(r'Z:\\03TRAINNING_EVALUATION_DATA\\rmse_forecast_source_250609.csv', index=False)"
   ]
  },
  {
   "cell_type": "code",
   "execution_count": 99,
   "id": "df5b7ebb",
   "metadata": {},
   "outputs": [
    {
     "data": {
      "text/plain": [
       "[1.662858703444374,\n",
       " 1.7121915896506086,\n",
       " 1.7635146815257834,\n",
       " 1.8021876033507935,\n",
       " 1.888381692587024,\n",
       " 2.08755353320523,\n",
       " 1.992755072891736,\n",
       " 1.9035164829679796,\n",
       " 2.0540830114753303,\n",
       " 2.2027035088630997,\n",
       " 2.29103795375983,\n",
       " 2.2241049275804845,\n",
       " 2.2452312835530774,\n",
       " 2.4164258878349005,\n",
       " 2.4972330644812106,\n",
       " 2.3590475675485605,\n",
       " 2.536243528261305,\n",
       " 2.5322141608314324,\n",
       " 2.6769928567642705,\n",
       " 2.639958545180855,\n",
       " 2.8303108506430226,\n",
       " 2.8931108647651205,\n",
       " 2.761806187270728,\n",
       " 2.720971375735356,\n",
       " 2.7328943422657277,\n",
       " 3.0249838365351085,\n",
       " 2.969289047701263,\n",
       " 2.8909393854830467,\n",
       " 3.0136955761044577,\n",
       " 3.1727125973712864,\n",
       " 2.971623102355798,\n",
       " 3.084218237170166,\n",
       " 3.225264452470915,\n",
       " 3.331911987461258,\n",
       " 3.1799033609439107,\n",
       " 3.2647754875970305,\n",
       " 3.510951511323822,\n",
       " 3.7220380862451004,\n",
       " 3.3687552380629597,\n",
       " 3.5289439530154265,\n",
       " 3.5157193571593086,\n",
       " 3.750179206422327,\n",
       " 3.7076497529454358,\n",
       " 3.6648994706218136,\n",
       " 4.052943557701456,\n",
       " 4.226887590222143,\n",
       " 4.18021379394124,\n",
       " 4.214050981100562,\n",
       " 4.383469488184605,\n",
       " 4.450205127444701,\n",
       " 4.5600760918813,\n",
       " 4.693458492762776,\n",
       " 4.870083148273869,\n",
       " 4.689932828533741,\n",
       " 4.770118557299519,\n",
       " 4.777748787869907,\n",
       " 4.83881662855474,\n",
       " 4.627229178189763,\n",
       " 4.771802603327316,\n",
       " 4.762956747946836,\n",
       " 4.862387457602709,\n",
       " nan,\n",
       " nan,\n",
       " nan,\n",
       " nan,\n",
       " nan,\n",
       " nan,\n",
       " nan,\n",
       " nan,\n",
       " nan,\n",
       " nan,\n",
       " nan]"
      ]
     },
     "execution_count": 99,
     "metadata": {},
     "output_type": "execute_result"
    }
   ],
   "source": [
    "rmse.tolist()"
   ]
  },
  {
   "cell_type": "code",
   "execution_count": 12,
   "id": "50818a75",
   "metadata": {},
   "outputs": [
    {
     "data": {
      "image/png": "[encoded data removed]",
      "text/plain": [
       "<Figure size 1000x600 with 1 Axes>"
      ]
     },
     "metadata": {},
     "output_type": "display_data"
    }
   ],
   "source": [
    "plt.figure(figsize=(10,6))\n",
    "plt.plot(rmse.index, rmse.values, marker='o', linestyle='-', color='blue')\n",
    "plt.xlabel('time (0 to 71)')\n",
    "plt.ylabel('RMSE')\n",
    "plt.title('forecast RMSE ')\n",
    "plt.grid(True)\n",
    "plt.show()"
   ]
  },
  {
   "cell_type": "code",
   "execution_count": 24,
   "id": "0b6657eb",
   "metadata": {},
   "outputs": [],
   "source": [
    "# 25-06-04 新加入的步骤 存储RMSE 至 csv中\n",
    "rmse.to_csv('./../../data/source_forecast_rmse.csv')"
   ]
  },
  {
   "cell_type": "markdown",
   "id": "3503fb4e",
   "metadata": {},
   "source": [
    "#### step6: 计算MAE以及偏差"
   ]
  },
  {
   "cell_type": "code",
   "execution_count": 109,
   "id": "80dae4de",
   "metadata": {},
   "outputs": [],
   "source": [
    "# 计算误差：预测值与实际值的差值\n",
    "error = df_forecast - df_realdata_split\n",
    "\n",
    "# 计算每一列的 MAE\n",
    "mae_per_column = np.abs(error).mean(axis=1)\n",
    "\n",
    "# 计算每一列的 Bias\n",
    "bias_per_column = error.mean(axis=1)\n",
    "\n",
    "# 如果需要，可以计算所有列 MAE 或 Bias 的均值作为整体指标\n",
    "overall_mean_mae = mae_per_column.mean()\n",
    "overall_mean_bias = bias_per_column.mean()\n"
   ]
  },
  {
   "cell_type": "code",
   "execution_count": 110,
   "id": "2e1ae49c",
   "metadata": {},
   "outputs": [
    {
     "name": "stdout",
     "output_type": "stream",
     "text": [
      "每列 MAE:\n",
      "0     1.315412\n",
      "1     1.266071\n",
      "2     1.314555\n",
      "3     1.382160\n",
      "4     1.477045\n",
      "        ...   \n",
      "67         NaN\n",
      "68         NaN\n",
      "69         NaN\n",
      "70         NaN\n",
      "71         NaN\n",
      "Length: 72, dtype: float64\n",
      "所有列 MAE 的均值: 2.5103816439776208\n"
     ]
    }
   ],
   "source": [
    "print(\"每列 MAE:\")\n",
    "print(mae_per_column)\n",
    "print(\"所有列 MAE 的均值:\", overall_mean_mae)"
   ]
  },
  {
   "cell_type": "code",
   "execution_count": 111,
   "id": "995566d0",
   "metadata": {},
   "outputs": [
    {
     "data": {
      "image/png": "[encoded data removed]",
      "text/plain": [
       "<Figure size 1000x600 with 1 Axes>"
      ]
     },
     "metadata": {},
     "output_type": "display_data"
    }
   ],
   "source": [
    "plt.figure(figsize=(10,6))\n",
    "plt.plot(mae_per_column.index, mae_per_column.values, marker='o', linestyle='-', color='blue')\n",
    "plt.xlabel('time (0 to 71)')\n",
    "plt.ylabel('MAE')\n",
    "plt.title('forecast MAE ')\n",
    "plt.grid(True)\n",
    "plt.show()"
   ]
  },
  {
   "cell_type": "code",
   "execution_count": 112,
   "id": "dd88eb45",
   "metadata": {},
   "outputs": [
    {
     "name": "stdout",
     "output_type": "stream",
     "text": [
      "每列 Bias:\n",
      "0     0.146593\n",
      "1     0.388649\n",
      "2     0.331943\n",
      "3     0.257169\n",
      "4     0.148950\n",
      "        ...   \n",
      "67         NaN\n",
      "68         NaN\n",
      "69         NaN\n",
      "70         NaN\n",
      "71         NaN\n",
      "Length: 72, dtype: float64\n",
      "所有列 Bias 的均值: 0.05091793034912939\n"
     ]
    }
   ],
   "source": [
    "print(\"每列 Bias:\")\n",
    "print(bias_per_column)\n",
    "print(\"所有列 Bias 的均值:\", overall_mean_bias)"
   ]
  },
  {
   "cell_type": "code",
   "execution_count": 62,
   "id": "1d4ea259",
   "metadata": {},
   "outputs": [
    {
     "data": {
      "text/plain": [
       "[0.14659264966415114,\n",
       " 0.3426706571654673,\n",
       " 0.33713474385793396,\n",
       " 0.27582230609579783,\n",
       " 0.12156985835141215,\n",
       " 0.345781078136788,\n",
       " 0.16518114527031563,\n",
       " 0.017601930309714454,\n",
       " 0.1898193368307309,\n",
       " 0.3770846310523737,\n",
       " 0.10999946217401942,\n",
       " -0.035157742915884214,\n",
       " -0.030343636474579862,\n",
       " 0.02311034559527518,\n",
       " 0.09443327428958836,\n",
       " 0.007783788297681521,\n",
       " -0.07381297327537242,\n",
       " 0.10440122556408163,\n",
       " 0.09509527359960761,\n",
       " -0.0693672170143733,\n",
       " 0.07711802994350135,\n",
       " 0.18728752445909097,\n",
       " 0.03133371953360634,\n",
       " -0.012896527960009549,\n",
       " 0.04159503966113734,\n",
       " 0.07489880929872227,\n",
       " 0.03786629994181996,\n",
       " 0.07389313593703555,\n",
       " -0.028227281877174076,\n",
       " 0.0762296332708909,\n",
       " 0.0818671460858398,\n",
       " -0.018044130823878568,\n",
       " 0.19517143543425317,\n",
       " 0.251730162769702,\n",
       " 0.061219555256883065,\n",
       " -0.021303529543711695,\n",
       " -0.02313268269552925,\n",
       " -0.026041141999115,\n",
       " -0.20593474120029218,\n",
       " -0.047000708480532664,\n",
       " -0.06762311127037447,\n",
       " -0.23155217485422916,\n",
       " -0.04347099949054808,\n",
       " -0.08553595974710991,\n",
       " -0.11521294439711004,\n",
       " 0.0572642745426952,\n",
       " -0.019080956969133547,\n",
       " -0.027045519614139875,\n",
       " -0.11810823885221002,\n",
       " -0.04413657758637875,\n",
       " -0.13924833285195112,\n",
       " 0.061851657731100976,\n",
       " -0.026489464552127077,\n",
       " -0.03483655769407153,\n",
       " 0.06743633260859487,\n",
       " -0.02499378119169245,\n",
       " 0.16956966606681578,\n",
       " 0.1739869320829495,\n",
       " 0.14824165086043425,\n",
       " 0.1480952506011994,\n",
       " -0.033069548513495764,\n",
       " nan,\n",
       " nan,\n",
       " nan,\n",
       " nan,\n",
       " nan,\n",
       " nan,\n",
       " nan,\n",
       " nan,\n",
       " nan,\n",
       " nan,\n",
       " nan]"
      ]
     },
     "execution_count": 62,
     "metadata": {},
     "output_type": "execute_result"
    }
   ],
   "source": [
    "bias_per_column.tolist()"
   ]
  },
  {
   "cell_type": "code",
   "execution_count": 113,
   "id": "730ee1c6",
   "metadata": {},
   "outputs": [
    {
     "data": {
      "image/png": "[encoded data removed]",
      "text/plain": [
       "<Figure size 1000x600 with 1 Axes>"
      ]
     },
     "metadata": {},
     "output_type": "display_data"
    }
   ],
   "source": [
    "plt.figure(figsize=(10,6))\n",
    "plt.plot(bias_per_column.index, bias_per_column.values, marker='o', linestyle='-', color='blue')\n",
    "plt.xlabel('time (0 to 71)')\n",
    "plt.ylabel('Bias')\n",
    "plt.title('forecast Bias ')\n",
    "plt.grid(True)\n",
    "plt.show()"
   ]
  },
  {
   "cell_type": "code",
   "execution_count": null,
   "id": "f810e1fe",
   "metadata": {},
   "outputs": [],
   "source": []
  },
  {
   "cell_type": "markdown",
   "id": "387ebcab",
   "metadata": {},
   "source": [
    "2025-06-08 新加入的数据统计分析"
   ]
  },
  {
   "cell_type": "code",
   "execution_count": 101,
   "id": "b6e4251f",
   "metadata": {},
   "outputs": [
    {
     "ename": "KeyboardInterrupt",
     "evalue": "",
     "output_type": "error",
     "traceback": [
      "\u001b[1;31m---------------------------------------------------------------------------\u001b[0m",
      "\u001b[1;31mKeyboardInterrupt\u001b[0m                         Traceback (most recent call last)",
      "Cell \u001b[1;32mIn[101], line 2\u001b[0m\n\u001b[0;32m      1\u001b[0m df_realdata_split\u001b[38;5;241m.\u001b[39mhist(figsize\u001b[38;5;241m=\u001b[39m(\u001b[38;5;241m10\u001b[39m, \u001b[38;5;241m8\u001b[39m))  \u001b[38;5;66;03m# 自动为每个数值型列创建直方图\u001b[39;00m\n\u001b[1;32m----> 2\u001b[0m \u001b[43mplt\u001b[49m\u001b[38;5;241;43m.\u001b[39;49m\u001b[43mshow\u001b[49m\u001b[43m(\u001b[49m\u001b[43m)\u001b[49m\n",
      "File \u001b[1;32md:\\05Setups\\ANACONDA\\envs\\py39\\lib\\site-packages\\matplotlib\\pyplot.py:612\u001b[0m, in \u001b[0;36mshow\u001b[1;34m(*args, **kwargs)\u001b[0m\n\u001b[0;32m    568\u001b[0m \u001b[38;5;250m\u001b[39m\u001b[38;5;124;03m\"\"\"\u001b[39;00m\n\u001b[0;32m    569\u001b[0m \u001b[38;5;124;03mDisplay all open figures.\u001b[39;00m\n\u001b[0;32m    570\u001b[0m \n\u001b[1;32m   (...)\u001b[0m\n\u001b[0;32m    609\u001b[0m \u001b[38;5;124;03mexplicitly there.\u001b[39;00m\n\u001b[0;32m    610\u001b[0m \u001b[38;5;124;03m\"\"\"\u001b[39;00m\n\u001b[0;32m    611\u001b[0m _warn_if_gui_out_of_main_thread()\n\u001b[1;32m--> 612\u001b[0m \u001b[38;5;28;01mreturn\u001b[39;00m _get_backend_mod()\u001b[38;5;241m.\u001b[39mshow(\u001b[38;5;241m*\u001b[39margs, \u001b[38;5;241m*\u001b[39m\u001b[38;5;241m*\u001b[39mkwargs)\n",
      "File \u001b[1;32md:\\05Setups\\ANACONDA\\envs\\py39\\lib\\site-packages\\matplotlib_inline\\backend_inline.py:90\u001b[0m, in \u001b[0;36mshow\u001b[1;34m(close, block)\u001b[0m\n\u001b[0;32m     88\u001b[0m \u001b[38;5;28;01mtry\u001b[39;00m:\n\u001b[0;32m     89\u001b[0m     \u001b[38;5;28;01mfor\u001b[39;00m figure_manager \u001b[38;5;129;01min\u001b[39;00m Gcf\u001b[38;5;241m.\u001b[39mget_all_fig_managers():\n\u001b[1;32m---> 90\u001b[0m         \u001b[43mdisplay\u001b[49m\u001b[43m(\u001b[49m\n\u001b[0;32m     91\u001b[0m \u001b[43m            \u001b[49m\u001b[43mfigure_manager\u001b[49m\u001b[38;5;241;43m.\u001b[39;49m\u001b[43mcanvas\u001b[49m\u001b[38;5;241;43m.\u001b[39;49m\u001b[43mfigure\u001b[49m\u001b[43m,\u001b[49m\n\u001b[0;32m     92\u001b[0m \u001b[43m            \u001b[49m\u001b[43mmetadata\u001b[49m\u001b[38;5;241;43m=\u001b[39;49m\u001b[43m_fetch_figure_metadata\u001b[49m\u001b[43m(\u001b[49m\u001b[43mfigure_manager\u001b[49m\u001b[38;5;241;43m.\u001b[39;49m\u001b[43mcanvas\u001b[49m\u001b[38;5;241;43m.\u001b[39;49m\u001b[43mfigure\u001b[49m\u001b[43m)\u001b[49m\n\u001b[0;32m     93\u001b[0m \u001b[43m        \u001b[49m\u001b[43m)\u001b[49m\n\u001b[0;32m     94\u001b[0m \u001b[38;5;28;01mfinally\u001b[39;00m:\n\u001b[0;32m     95\u001b[0m     show\u001b[38;5;241m.\u001b[39m_to_draw \u001b[38;5;241m=\u001b[39m []\n",
      "File \u001b[1;32md:\\05Setups\\ANACONDA\\envs\\py39\\lib\\site-packages\\IPython\\core\\display_functions.py:298\u001b[0m, in \u001b[0;36mdisplay\u001b[1;34m(include, exclude, metadata, transient, display_id, raw, clear, *objs, **kwargs)\u001b[0m\n\u001b[0;32m    296\u001b[0m     publish_display_data(data\u001b[38;5;241m=\u001b[39mobj, metadata\u001b[38;5;241m=\u001b[39mmetadata, \u001b[38;5;241m*\u001b[39m\u001b[38;5;241m*\u001b[39mkwargs)\n\u001b[0;32m    297\u001b[0m \u001b[38;5;28;01melse\u001b[39;00m:\n\u001b[1;32m--> 298\u001b[0m     format_dict, md_dict \u001b[38;5;241m=\u001b[39m \u001b[38;5;28;43mformat\u001b[39;49m\u001b[43m(\u001b[49m\u001b[43mobj\u001b[49m\u001b[43m,\u001b[49m\u001b[43m \u001b[49m\u001b[43minclude\u001b[49m\u001b[38;5;241;43m=\u001b[39;49m\u001b[43minclude\u001b[49m\u001b[43m,\u001b[49m\u001b[43m \u001b[49m\u001b[43mexclude\u001b[49m\u001b[38;5;241;43m=\u001b[39;49m\u001b[43mexclude\u001b[49m\u001b[43m)\u001b[49m\n\u001b[0;32m    299\u001b[0m     \u001b[38;5;28;01mif\u001b[39;00m \u001b[38;5;129;01mnot\u001b[39;00m format_dict:\n\u001b[0;32m    300\u001b[0m         \u001b[38;5;66;03m# nothing to display (e.g. _ipython_display_ took over)\u001b[39;00m\n\u001b[0;32m    301\u001b[0m         \u001b[38;5;28;01mcontinue\u001b[39;00m\n",
      "File \u001b[1;32md:\\05Setups\\ANACONDA\\envs\\py39\\lib\\site-packages\\IPython\\core\\formatters.py:179\u001b[0m, in \u001b[0;36mDisplayFormatter.format\u001b[1;34m(self, obj, include, exclude)\u001b[0m\n\u001b[0;32m    177\u001b[0m md \u001b[38;5;241m=\u001b[39m \u001b[38;5;28;01mNone\u001b[39;00m\n\u001b[0;32m    178\u001b[0m \u001b[38;5;28;01mtry\u001b[39;00m:\n\u001b[1;32m--> 179\u001b[0m     data \u001b[38;5;241m=\u001b[39m \u001b[43mformatter\u001b[49m\u001b[43m(\u001b[49m\u001b[43mobj\u001b[49m\u001b[43m)\u001b[49m\n\u001b[0;32m    180\u001b[0m \u001b[38;5;28;01mexcept\u001b[39;00m:\n\u001b[0;32m    181\u001b[0m     \u001b[38;5;66;03m# FIXME: log the exception\u001b[39;00m\n\u001b[0;32m    182\u001b[0m     \u001b[38;5;28;01mraise\u001b[39;00m\n",
      "File \u001b[1;32md:\\05Setups\\ANACONDA\\envs\\py39\\lib\\site-packages\\decorator.py:232\u001b[0m, in \u001b[0;36mdecorate.<locals>.fun\u001b[1;34m(*args, **kw)\u001b[0m\n\u001b[0;32m    230\u001b[0m \u001b[38;5;28;01mif\u001b[39;00m \u001b[38;5;129;01mnot\u001b[39;00m kwsyntax:\n\u001b[0;32m    231\u001b[0m     args, kw \u001b[38;5;241m=\u001b[39m fix(args, kw, sig)\n\u001b[1;32m--> 232\u001b[0m \u001b[38;5;28;01mreturn\u001b[39;00m caller(func, \u001b[38;5;241m*\u001b[39m(extras \u001b[38;5;241m+\u001b[39m args), \u001b[38;5;241m*\u001b[39m\u001b[38;5;241m*\u001b[39mkw)\n",
      "File \u001b[1;32md:\\05Setups\\ANACONDA\\envs\\py39\\lib\\site-packages\\IPython\\core\\formatters.py:223\u001b[0m, in \u001b[0;36mcatch_format_error\u001b[1;34m(method, self, *args, **kwargs)\u001b[0m\n\u001b[0;32m    221\u001b[0m \u001b[38;5;250m\u001b[39m\u001b[38;5;124;03m\"\"\"show traceback on failed format call\"\"\"\u001b[39;00m\n\u001b[0;32m    222\u001b[0m \u001b[38;5;28;01mtry\u001b[39;00m:\n\u001b[1;32m--> 223\u001b[0m     r \u001b[38;5;241m=\u001b[39m method(\u001b[38;5;28mself\u001b[39m, \u001b[38;5;241m*\u001b[39margs, \u001b[38;5;241m*\u001b[39m\u001b[38;5;241m*\u001b[39mkwargs)\n\u001b[0;32m    224\u001b[0m \u001b[38;5;28;01mexcept\u001b[39;00m \u001b[38;5;167;01mNotImplementedError\u001b[39;00m:\n\u001b[0;32m    225\u001b[0m     \u001b[38;5;66;03m# don't warn on NotImplementedErrors\u001b[39;00m\n\u001b[0;32m    226\u001b[0m     \u001b[38;5;28;01mreturn\u001b[39;00m \u001b[38;5;28mself\u001b[39m\u001b[38;5;241m.\u001b[39m_check_return(\u001b[38;5;28;01mNone\u001b[39;00m, args[\u001b[38;5;241m0\u001b[39m])\n",
      "File \u001b[1;32md:\\05Setups\\ANACONDA\\envs\\py39\\lib\\site-packages\\IPython\\core\\formatters.py:340\u001b[0m, in \u001b[0;36mBaseFormatter.__call__\u001b[1;34m(self, obj)\u001b[0m\n\u001b[0;32m    338\u001b[0m     \u001b[38;5;28;01mpass\u001b[39;00m\n\u001b[0;32m    339\u001b[0m \u001b[38;5;28;01melse\u001b[39;00m:\n\u001b[1;32m--> 340\u001b[0m     \u001b[38;5;28;01mreturn\u001b[39;00m \u001b[43mprinter\u001b[49m\u001b[43m(\u001b[49m\u001b[43mobj\u001b[49m\u001b[43m)\u001b[49m\n\u001b[0;32m    341\u001b[0m \u001b[38;5;66;03m# Finally look for special method names\u001b[39;00m\n\u001b[0;32m    342\u001b[0m method \u001b[38;5;241m=\u001b[39m get_real_method(obj, \u001b[38;5;28mself\u001b[39m\u001b[38;5;241m.\u001b[39mprint_method)\n",
      "File \u001b[1;32md:\\05Setups\\ANACONDA\\envs\\py39\\lib\\site-packages\\IPython\\core\\pylabtools.py:152\u001b[0m, in \u001b[0;36mprint_figure\u001b[1;34m(fig, fmt, bbox_inches, base64, **kwargs)\u001b[0m\n\u001b[0;32m    149\u001b[0m     \u001b[38;5;28;01mfrom\u001b[39;00m\u001b[38;5;250m \u001b[39m\u001b[38;5;21;01mmatplotlib\u001b[39;00m\u001b[38;5;21;01m.\u001b[39;00m\u001b[38;5;21;01mbackend_bases\u001b[39;00m\u001b[38;5;250m \u001b[39m\u001b[38;5;28;01mimport\u001b[39;00m FigureCanvasBase\n\u001b[0;32m    150\u001b[0m     FigureCanvasBase(fig)\n\u001b[1;32m--> 152\u001b[0m fig\u001b[38;5;241m.\u001b[39mcanvas\u001b[38;5;241m.\u001b[39mprint_figure(bytes_io, \u001b[38;5;241m*\u001b[39m\u001b[38;5;241m*\u001b[39mkw)\n\u001b[0;32m    153\u001b[0m data \u001b[38;5;241m=\u001b[39m bytes_io\u001b[38;5;241m.\u001b[39mgetvalue()\n\u001b[0;32m    154\u001b[0m \u001b[38;5;28;01mif\u001b[39;00m fmt \u001b[38;5;241m==\u001b[39m \u001b[38;5;124m'\u001b[39m\u001b[38;5;124msvg\u001b[39m\u001b[38;5;124m'\u001b[39m:\n",
      "File \u001b[1;32md:\\05Setups\\ANACONDA\\envs\\py39\\lib\\site-packages\\matplotlib\\backend_bases.py:2204\u001b[0m, in \u001b[0;36mFigureCanvasBase.print_figure\u001b[1;34m(self, filename, dpi, facecolor, edgecolor, orientation, format, bbox_inches, pad_inches, bbox_extra_artists, backend, **kwargs)\u001b[0m\n\u001b[0;32m   2200\u001b[0m \u001b[38;5;28;01mtry\u001b[39;00m:\n\u001b[0;32m   2201\u001b[0m     \u001b[38;5;66;03m# _get_renderer may change the figure dpi (as vector formats\u001b[39;00m\n\u001b[0;32m   2202\u001b[0m     \u001b[38;5;66;03m# force the figure dpi to 72), so we need to set it again here.\u001b[39;00m\n\u001b[0;32m   2203\u001b[0m     \u001b[38;5;28;01mwith\u001b[39;00m cbook\u001b[38;5;241m.\u001b[39m_setattr_cm(\u001b[38;5;28mself\u001b[39m\u001b[38;5;241m.\u001b[39mfigure, dpi\u001b[38;5;241m=\u001b[39mdpi):\n\u001b[1;32m-> 2204\u001b[0m         result \u001b[38;5;241m=\u001b[39m print_method(\n\u001b[0;32m   2205\u001b[0m             filename,\n\u001b[0;32m   2206\u001b[0m             facecolor\u001b[38;5;241m=\u001b[39mfacecolor,\n\u001b[0;32m   2207\u001b[0m             edgecolor\u001b[38;5;241m=\u001b[39medgecolor,\n\u001b[0;32m   2208\u001b[0m             orientation\u001b[38;5;241m=\u001b[39morientation,\n\u001b[0;32m   2209\u001b[0m             bbox_inches_restore\u001b[38;5;241m=\u001b[39m_bbox_inches_restore,\n\u001b[0;32m   2210\u001b[0m             \u001b[38;5;241m*\u001b[39m\u001b[38;5;241m*\u001b[39mkwargs)\n\u001b[0;32m   2211\u001b[0m \u001b[38;5;28;01mfinally\u001b[39;00m:\n\u001b[0;32m   2212\u001b[0m     \u001b[38;5;28;01mif\u001b[39;00m bbox_inches \u001b[38;5;129;01mand\u001b[39;00m restore_bbox:\n",
      "File \u001b[1;32md:\\05Setups\\ANACONDA\\envs\\py39\\lib\\site-packages\\matplotlib\\backend_bases.py:2054\u001b[0m, in \u001b[0;36mFigureCanvasBase._switch_canvas_and_return_print_method.<locals>.<lambda>\u001b[1;34m(*args, **kwargs)\u001b[0m\n\u001b[0;32m   2050\u001b[0m     optional_kws \u001b[38;5;241m=\u001b[39m {  \u001b[38;5;66;03m# Passed by print_figure for other renderers.\u001b[39;00m\n\u001b[0;32m   2051\u001b[0m         \u001b[38;5;124m\"\u001b[39m\u001b[38;5;124mdpi\u001b[39m\u001b[38;5;124m\"\u001b[39m, \u001b[38;5;124m\"\u001b[39m\u001b[38;5;124mfacecolor\u001b[39m\u001b[38;5;124m\"\u001b[39m, \u001b[38;5;124m\"\u001b[39m\u001b[38;5;124medgecolor\u001b[39m\u001b[38;5;124m\"\u001b[39m, \u001b[38;5;124m\"\u001b[39m\u001b[38;5;124morientation\u001b[39m\u001b[38;5;124m\"\u001b[39m,\n\u001b[0;32m   2052\u001b[0m         \u001b[38;5;124m\"\u001b[39m\u001b[38;5;124mbbox_inches_restore\u001b[39m\u001b[38;5;124m\"\u001b[39m}\n\u001b[0;32m   2053\u001b[0m     skip \u001b[38;5;241m=\u001b[39m optional_kws \u001b[38;5;241m-\u001b[39m {\u001b[38;5;241m*\u001b[39minspect\u001b[38;5;241m.\u001b[39msignature(meth)\u001b[38;5;241m.\u001b[39mparameters}\n\u001b[1;32m-> 2054\u001b[0m     print_method \u001b[38;5;241m=\u001b[39m functools\u001b[38;5;241m.\u001b[39mwraps(meth)(\u001b[38;5;28;01mlambda\u001b[39;00m \u001b[38;5;241m*\u001b[39margs, \u001b[38;5;241m*\u001b[39m\u001b[38;5;241m*\u001b[39mkwargs: meth(\n\u001b[0;32m   2055\u001b[0m         \u001b[38;5;241m*\u001b[39margs, \u001b[38;5;241m*\u001b[39m\u001b[38;5;241m*\u001b[39m{k: v \u001b[38;5;28;01mfor\u001b[39;00m k, v \u001b[38;5;129;01min\u001b[39;00m kwargs\u001b[38;5;241m.\u001b[39mitems() \u001b[38;5;28;01mif\u001b[39;00m k \u001b[38;5;129;01mnot\u001b[39;00m \u001b[38;5;129;01min\u001b[39;00m skip}))\n\u001b[0;32m   2056\u001b[0m \u001b[38;5;28;01melse\u001b[39;00m:  \u001b[38;5;66;03m# Let third-parties do as they see fit.\u001b[39;00m\n\u001b[0;32m   2057\u001b[0m     print_method \u001b[38;5;241m=\u001b[39m meth\n",
      "File \u001b[1;32md:\\05Setups\\ANACONDA\\envs\\py39\\lib\\site-packages\\matplotlib\\backends\\backend_agg.py:496\u001b[0m, in \u001b[0;36mFigureCanvasAgg.print_png\u001b[1;34m(self, filename_or_obj, metadata, pil_kwargs)\u001b[0m\n\u001b[0;32m    449\u001b[0m \u001b[38;5;28;01mdef\u001b[39;00m\u001b[38;5;250m \u001b[39m\u001b[38;5;21mprint_png\u001b[39m(\u001b[38;5;28mself\u001b[39m, filename_or_obj, \u001b[38;5;241m*\u001b[39m, metadata\u001b[38;5;241m=\u001b[39m\u001b[38;5;28;01mNone\u001b[39;00m, pil_kwargs\u001b[38;5;241m=\u001b[39m\u001b[38;5;28;01mNone\u001b[39;00m):\n\u001b[0;32m    450\u001b[0m \u001b[38;5;250m    \u001b[39m\u001b[38;5;124;03m\"\"\"\u001b[39;00m\n\u001b[0;32m    451\u001b[0m \u001b[38;5;124;03m    Write the figure to a PNG file.\u001b[39;00m\n\u001b[0;32m    452\u001b[0m \n\u001b[1;32m   (...)\u001b[0m\n\u001b[0;32m    494\u001b[0m \u001b[38;5;124;03m        *metadata*, including the default 'Software' key.\u001b[39;00m\n\u001b[0;32m    495\u001b[0m \u001b[38;5;124;03m    \"\"\"\u001b[39;00m\n\u001b[1;32m--> 496\u001b[0m     \u001b[38;5;28;43mself\u001b[39;49m\u001b[38;5;241;43m.\u001b[39;49m\u001b[43m_print_pil\u001b[49m\u001b[43m(\u001b[49m\u001b[43mfilename_or_obj\u001b[49m\u001b[43m,\u001b[49m\u001b[43m \u001b[49m\u001b[38;5;124;43m\"\u001b[39;49m\u001b[38;5;124;43mpng\u001b[39;49m\u001b[38;5;124;43m\"\u001b[39;49m\u001b[43m,\u001b[49m\u001b[43m \u001b[49m\u001b[43mpil_kwargs\u001b[49m\u001b[43m,\u001b[49m\u001b[43m \u001b[49m\u001b[43mmetadata\u001b[49m\u001b[43m)\u001b[49m\n",
      "File \u001b[1;32md:\\05Setups\\ANACONDA\\envs\\py39\\lib\\site-packages\\matplotlib\\backends\\backend_agg.py:444\u001b[0m, in \u001b[0;36mFigureCanvasAgg._print_pil\u001b[1;34m(self, filename_or_obj, fmt, pil_kwargs, metadata)\u001b[0m\n\u001b[0;32m    439\u001b[0m \u001b[38;5;28;01mdef\u001b[39;00m\u001b[38;5;250m \u001b[39m\u001b[38;5;21m_print_pil\u001b[39m(\u001b[38;5;28mself\u001b[39m, filename_or_obj, fmt, pil_kwargs, metadata\u001b[38;5;241m=\u001b[39m\u001b[38;5;28;01mNone\u001b[39;00m):\n\u001b[0;32m    440\u001b[0m \u001b[38;5;250m    \u001b[39m\u001b[38;5;124;03m\"\"\"\u001b[39;00m\n\u001b[0;32m    441\u001b[0m \u001b[38;5;124;03m    Draw the canvas, then save it using `.image.imsave` (to which\u001b[39;00m\n\u001b[0;32m    442\u001b[0m \u001b[38;5;124;03m    *pil_kwargs* and *metadata* are forwarded).\u001b[39;00m\n\u001b[0;32m    443\u001b[0m \u001b[38;5;124;03m    \"\"\"\u001b[39;00m\n\u001b[1;32m--> 444\u001b[0m     \u001b[43mFigureCanvasAgg\u001b[49m\u001b[38;5;241;43m.\u001b[39;49m\u001b[43mdraw\u001b[49m\u001b[43m(\u001b[49m\u001b[38;5;28;43mself\u001b[39;49m\u001b[43m)\u001b[49m\n\u001b[0;32m    445\u001b[0m     mpl\u001b[38;5;241m.\u001b[39mimage\u001b[38;5;241m.\u001b[39mimsave(\n\u001b[0;32m    446\u001b[0m         filename_or_obj, \u001b[38;5;28mself\u001b[39m\u001b[38;5;241m.\u001b[39mbuffer_rgba(), \u001b[38;5;28mformat\u001b[39m\u001b[38;5;241m=\u001b[39mfmt, origin\u001b[38;5;241m=\u001b[39m\u001b[38;5;124m\"\u001b[39m\u001b[38;5;124mupper\u001b[39m\u001b[38;5;124m\"\u001b[39m,\n\u001b[0;32m    447\u001b[0m         dpi\u001b[38;5;241m=\u001b[39m\u001b[38;5;28mself\u001b[39m\u001b[38;5;241m.\u001b[39mfigure\u001b[38;5;241m.\u001b[39mdpi, metadata\u001b[38;5;241m=\u001b[39mmetadata, pil_kwargs\u001b[38;5;241m=\u001b[39mpil_kwargs)\n",
      "File \u001b[1;32md:\\05Setups\\ANACONDA\\envs\\py39\\lib\\site-packages\\matplotlib\\backends\\backend_agg.py:387\u001b[0m, in \u001b[0;36mFigureCanvasAgg.draw\u001b[1;34m(self)\u001b[0m\n\u001b[0;32m    384\u001b[0m \u001b[38;5;66;03m# Acquire a lock on the shared font cache.\u001b[39;00m\n\u001b[0;32m    385\u001b[0m \u001b[38;5;28;01mwith\u001b[39;00m (\u001b[38;5;28mself\u001b[39m\u001b[38;5;241m.\u001b[39mtoolbar\u001b[38;5;241m.\u001b[39m_wait_cursor_for_draw_cm() \u001b[38;5;28;01mif\u001b[39;00m \u001b[38;5;28mself\u001b[39m\u001b[38;5;241m.\u001b[39mtoolbar\n\u001b[0;32m    386\u001b[0m       \u001b[38;5;28;01melse\u001b[39;00m nullcontext()):\n\u001b[1;32m--> 387\u001b[0m     \u001b[38;5;28;43mself\u001b[39;49m\u001b[38;5;241;43m.\u001b[39;49m\u001b[43mfigure\u001b[49m\u001b[38;5;241;43m.\u001b[39;49m\u001b[43mdraw\u001b[49m\u001b[43m(\u001b[49m\u001b[38;5;28;43mself\u001b[39;49m\u001b[38;5;241;43m.\u001b[39;49m\u001b[43mrenderer\u001b[49m\u001b[43m)\u001b[49m\n\u001b[0;32m    388\u001b[0m     \u001b[38;5;66;03m# A GUI class may be need to update a window using this draw, so\u001b[39;00m\n\u001b[0;32m    389\u001b[0m     \u001b[38;5;66;03m# don't forget to call the superclass.\u001b[39;00m\n\u001b[0;32m    390\u001b[0m     \u001b[38;5;28msuper\u001b[39m()\u001b[38;5;241m.\u001b[39mdraw()\n",
      "File \u001b[1;32md:\\05Setups\\ANACONDA\\envs\\py39\\lib\\site-packages\\matplotlib\\artist.py:95\u001b[0m, in \u001b[0;36m_finalize_rasterization.<locals>.draw_wrapper\u001b[1;34m(artist, renderer, *args, **kwargs)\u001b[0m\n\u001b[0;32m     93\u001b[0m \u001b[38;5;129m@wraps\u001b[39m(draw)\n\u001b[0;32m     94\u001b[0m \u001b[38;5;28;01mdef\u001b[39;00m\u001b[38;5;250m \u001b[39m\u001b[38;5;21mdraw_wrapper\u001b[39m(artist, renderer, \u001b[38;5;241m*\u001b[39margs, \u001b[38;5;241m*\u001b[39m\u001b[38;5;241m*\u001b[39mkwargs):\n\u001b[1;32m---> 95\u001b[0m     result \u001b[38;5;241m=\u001b[39m draw(artist, renderer, \u001b[38;5;241m*\u001b[39margs, \u001b[38;5;241m*\u001b[39m\u001b[38;5;241m*\u001b[39mkwargs)\n\u001b[0;32m     96\u001b[0m     \u001b[38;5;28;01mif\u001b[39;00m renderer\u001b[38;5;241m.\u001b[39m_rasterizing:\n\u001b[0;32m     97\u001b[0m         renderer\u001b[38;5;241m.\u001b[39mstop_rasterizing()\n",
      "File \u001b[1;32md:\\05Setups\\ANACONDA\\envs\\py39\\lib\\site-packages\\matplotlib\\artist.py:72\u001b[0m, in \u001b[0;36mallow_rasterization.<locals>.draw_wrapper\u001b[1;34m(artist, renderer)\u001b[0m\n\u001b[0;32m     69\u001b[0m     \u001b[38;5;28;01mif\u001b[39;00m artist\u001b[38;5;241m.\u001b[39mget_agg_filter() \u001b[38;5;129;01mis\u001b[39;00m \u001b[38;5;129;01mnot\u001b[39;00m \u001b[38;5;28;01mNone\u001b[39;00m:\n\u001b[0;32m     70\u001b[0m         renderer\u001b[38;5;241m.\u001b[39mstart_filter()\n\u001b[1;32m---> 72\u001b[0m     \u001b[38;5;28;01mreturn\u001b[39;00m \u001b[43mdraw\u001b[49m\u001b[43m(\u001b[49m\u001b[43martist\u001b[49m\u001b[43m,\u001b[49m\u001b[43m \u001b[49m\u001b[43mrenderer\u001b[49m\u001b[43m)\u001b[49m\n\u001b[0;32m     73\u001b[0m \u001b[38;5;28;01mfinally\u001b[39;00m:\n\u001b[0;32m     74\u001b[0m     \u001b[38;5;28;01mif\u001b[39;00m artist\u001b[38;5;241m.\u001b[39mget_agg_filter() \u001b[38;5;129;01mis\u001b[39;00m \u001b[38;5;129;01mnot\u001b[39;00m \u001b[38;5;28;01mNone\u001b[39;00m:\n",
      "File \u001b[1;32md:\\05Setups\\ANACONDA\\envs\\py39\\lib\\site-packages\\matplotlib\\figure.py:3162\u001b[0m, in \u001b[0;36mFigure.draw\u001b[1;34m(self, renderer)\u001b[0m\n\u001b[0;32m   3159\u001b[0m             \u001b[38;5;66;03m# ValueError can occur when resizing a window.\u001b[39;00m\n\u001b[0;32m   3161\u001b[0m     \u001b[38;5;28mself\u001b[39m\u001b[38;5;241m.\u001b[39mpatch\u001b[38;5;241m.\u001b[39mdraw(renderer)\n\u001b[1;32m-> 3162\u001b[0m     \u001b[43mmimage\u001b[49m\u001b[38;5;241;43m.\u001b[39;49m\u001b[43m_draw_list_compositing_images\u001b[49m\u001b[43m(\u001b[49m\n\u001b[0;32m   3163\u001b[0m \u001b[43m        \u001b[49m\u001b[43mrenderer\u001b[49m\u001b[43m,\u001b[49m\u001b[43m \u001b[49m\u001b[38;5;28;43mself\u001b[39;49m\u001b[43m,\u001b[49m\u001b[43m \u001b[49m\u001b[43martists\u001b[49m\u001b[43m,\u001b[49m\u001b[43m \u001b[49m\u001b[38;5;28;43mself\u001b[39;49m\u001b[38;5;241;43m.\u001b[39;49m\u001b[43msuppressComposite\u001b[49m\u001b[43m)\u001b[49m\n\u001b[0;32m   3165\u001b[0m     renderer\u001b[38;5;241m.\u001b[39mclose_group(\u001b[38;5;124m'\u001b[39m\u001b[38;5;124mfigure\u001b[39m\u001b[38;5;124m'\u001b[39m)\n\u001b[0;32m   3166\u001b[0m \u001b[38;5;28;01mfinally\u001b[39;00m:\n",
      "File \u001b[1;32md:\\05Setups\\ANACONDA\\envs\\py39\\lib\\site-packages\\matplotlib\\image.py:132\u001b[0m, in \u001b[0;36m_draw_list_compositing_images\u001b[1;34m(renderer, parent, artists, suppress_composite)\u001b[0m\n\u001b[0;32m    130\u001b[0m \u001b[38;5;28;01mif\u001b[39;00m not_composite \u001b[38;5;129;01mor\u001b[39;00m \u001b[38;5;129;01mnot\u001b[39;00m has_images:\n\u001b[0;32m    131\u001b[0m     \u001b[38;5;28;01mfor\u001b[39;00m a \u001b[38;5;129;01min\u001b[39;00m artists:\n\u001b[1;32m--> 132\u001b[0m         \u001b[43ma\u001b[49m\u001b[38;5;241;43m.\u001b[39;49m\u001b[43mdraw\u001b[49m\u001b[43m(\u001b[49m\u001b[43mrenderer\u001b[49m\u001b[43m)\u001b[49m\n\u001b[0;32m    133\u001b[0m \u001b[38;5;28;01melse\u001b[39;00m:\n\u001b[0;32m    134\u001b[0m     \u001b[38;5;66;03m# Composite any adjacent images together\u001b[39;00m\n\u001b[0;32m    135\u001b[0m     image_group \u001b[38;5;241m=\u001b[39m []\n",
      "File \u001b[1;32md:\\05Setups\\ANACONDA\\envs\\py39\\lib\\site-packages\\matplotlib\\artist.py:72\u001b[0m, in \u001b[0;36mallow_rasterization.<locals>.draw_wrapper\u001b[1;34m(artist, renderer)\u001b[0m\n\u001b[0;32m     69\u001b[0m     \u001b[38;5;28;01mif\u001b[39;00m artist\u001b[38;5;241m.\u001b[39mget_agg_filter() \u001b[38;5;129;01mis\u001b[39;00m \u001b[38;5;129;01mnot\u001b[39;00m \u001b[38;5;28;01mNone\u001b[39;00m:\n\u001b[0;32m     70\u001b[0m         renderer\u001b[38;5;241m.\u001b[39mstart_filter()\n\u001b[1;32m---> 72\u001b[0m     \u001b[38;5;28;01mreturn\u001b[39;00m \u001b[43mdraw\u001b[49m\u001b[43m(\u001b[49m\u001b[43martist\u001b[49m\u001b[43m,\u001b[49m\u001b[43m \u001b[49m\u001b[43mrenderer\u001b[49m\u001b[43m)\u001b[49m\n\u001b[0;32m     73\u001b[0m \u001b[38;5;28;01mfinally\u001b[39;00m:\n\u001b[0;32m     74\u001b[0m     \u001b[38;5;28;01mif\u001b[39;00m artist\u001b[38;5;241m.\u001b[39mget_agg_filter() \u001b[38;5;129;01mis\u001b[39;00m \u001b[38;5;129;01mnot\u001b[39;00m \u001b[38;5;28;01mNone\u001b[39;00m:\n",
      "File \u001b[1;32md:\\05Setups\\ANACONDA\\envs\\py39\\lib\\site-packages\\matplotlib\\axes\\_base.py:3101\u001b[0m, in \u001b[0;36m_AxesBase.draw\u001b[1;34m(self, renderer)\u001b[0m\n\u001b[0;32m   3098\u001b[0m     \u001b[38;5;28;01mfor\u001b[39;00m spine \u001b[38;5;129;01min\u001b[39;00m \u001b[38;5;28mself\u001b[39m\u001b[38;5;241m.\u001b[39mspines\u001b[38;5;241m.\u001b[39mvalues():\n\u001b[0;32m   3099\u001b[0m         artists\u001b[38;5;241m.\u001b[39mremove(spine)\n\u001b[1;32m-> 3101\u001b[0m \u001b[38;5;28;43mself\u001b[39;49m\u001b[38;5;241;43m.\u001b[39;49m\u001b[43m_update_title_position\u001b[49m\u001b[43m(\u001b[49m\u001b[43mrenderer\u001b[49m\u001b[43m)\u001b[49m\n\u001b[0;32m   3103\u001b[0m \u001b[38;5;28;01mif\u001b[39;00m \u001b[38;5;129;01mnot\u001b[39;00m \u001b[38;5;28mself\u001b[39m\u001b[38;5;241m.\u001b[39maxison:\n\u001b[0;32m   3104\u001b[0m     \u001b[38;5;28;01mfor\u001b[39;00m _axis \u001b[38;5;129;01min\u001b[39;00m \u001b[38;5;28mself\u001b[39m\u001b[38;5;241m.\u001b[39m_axis_map\u001b[38;5;241m.\u001b[39mvalues():\n",
      "File \u001b[1;32md:\\05Setups\\ANACONDA\\envs\\py39\\lib\\site-packages\\matplotlib\\axes\\_base.py:3045\u001b[0m, in \u001b[0;36m_AxesBase._update_title_position\u001b[1;34m(self, renderer)\u001b[0m\n\u001b[0;32m   3043\u001b[0m top \u001b[38;5;241m=\u001b[39m \u001b[38;5;28mmax\u001b[39m(top, bb\u001b[38;5;241m.\u001b[39mymax)\n\u001b[0;32m   3044\u001b[0m \u001b[38;5;28;01mif\u001b[39;00m title\u001b[38;5;241m.\u001b[39mget_text():\n\u001b[1;32m-> 3045\u001b[0m     \u001b[43max\u001b[49m\u001b[38;5;241;43m.\u001b[39;49m\u001b[43myaxis\u001b[49m\u001b[38;5;241;43m.\u001b[39;49m\u001b[43mget_tightbbox\u001b[49m\u001b[43m(\u001b[49m\u001b[43mrenderer\u001b[49m\u001b[43m)\u001b[49m  \u001b[38;5;66;03m# update offsetText\u001b[39;00m\n\u001b[0;32m   3046\u001b[0m     \u001b[38;5;28;01mif\u001b[39;00m ax\u001b[38;5;241m.\u001b[39myaxis\u001b[38;5;241m.\u001b[39moffsetText\u001b[38;5;241m.\u001b[39mget_text():\n\u001b[0;32m   3047\u001b[0m         bb \u001b[38;5;241m=\u001b[39m ax\u001b[38;5;241m.\u001b[39myaxis\u001b[38;5;241m.\u001b[39moffsetText\u001b[38;5;241m.\u001b[39mget_tightbbox(renderer)\n",
      "File \u001b[1;32md:\\05Setups\\ANACONDA\\envs\\py39\\lib\\site-packages\\matplotlib\\axis.py:1375\u001b[0m, in \u001b[0;36mAxis.get_tightbbox\u001b[1;34m(self, renderer, for_layout_only)\u001b[0m\n\u001b[0;32m   1372\u001b[0m \u001b[38;5;28mself\u001b[39m\u001b[38;5;241m.\u001b[39m_update_label_position(renderer)\n\u001b[0;32m   1374\u001b[0m \u001b[38;5;66;03m# go back to just this axis's tick labels\u001b[39;00m\n\u001b[1;32m-> 1375\u001b[0m tlb1, tlb2 \u001b[38;5;241m=\u001b[39m \u001b[38;5;28;43mself\u001b[39;49m\u001b[38;5;241;43m.\u001b[39;49m\u001b[43m_get_ticklabel_bboxes\u001b[49m\u001b[43m(\u001b[49m\u001b[43mticks_to_draw\u001b[49m\u001b[43m,\u001b[49m\u001b[43m \u001b[49m\u001b[43mrenderer\u001b[49m\u001b[43m)\u001b[49m\n\u001b[0;32m   1377\u001b[0m \u001b[38;5;28mself\u001b[39m\u001b[38;5;241m.\u001b[39m_update_offset_text_position(tlb1, tlb2)\n\u001b[0;32m   1378\u001b[0m \u001b[38;5;28mself\u001b[39m\u001b[38;5;241m.\u001b[39moffsetText\u001b[38;5;241m.\u001b[39mset_text(\u001b[38;5;28mself\u001b[39m\u001b[38;5;241m.\u001b[39mmajor\u001b[38;5;241m.\u001b[39mformatter\u001b[38;5;241m.\u001b[39mget_offset())\n",
      "File \u001b[1;32md:\\05Setups\\ANACONDA\\envs\\py39\\lib\\site-packages\\matplotlib\\axis.py:1351\u001b[0m, in \u001b[0;36mAxis._get_ticklabel_bboxes\u001b[1;34m(self, ticks, renderer)\u001b[0m\n\u001b[0;32m   1349\u001b[0m \u001b[38;5;28;01mif\u001b[39;00m renderer \u001b[38;5;129;01mis\u001b[39;00m \u001b[38;5;28;01mNone\u001b[39;00m:\n\u001b[0;32m   1350\u001b[0m     renderer \u001b[38;5;241m=\u001b[39m \u001b[38;5;28mself\u001b[39m\u001b[38;5;241m.\u001b[39mfigure\u001b[38;5;241m.\u001b[39m_get_renderer()\n\u001b[1;32m-> 1351\u001b[0m \u001b[38;5;28;01mreturn\u001b[39;00m ([tick\u001b[38;5;241m.\u001b[39mlabel1\u001b[38;5;241m.\u001b[39mget_window_extent(renderer)\n\u001b[0;32m   1352\u001b[0m          \u001b[38;5;28;01mfor\u001b[39;00m tick \u001b[38;5;129;01min\u001b[39;00m ticks \u001b[38;5;28;01mif\u001b[39;00m tick\u001b[38;5;241m.\u001b[39mlabel1\u001b[38;5;241m.\u001b[39mget_visible()],\n\u001b[0;32m   1353\u001b[0m         [tick\u001b[38;5;241m.\u001b[39mlabel2\u001b[38;5;241m.\u001b[39mget_window_extent(renderer)\n\u001b[0;32m   1354\u001b[0m          \u001b[38;5;28;01mfor\u001b[39;00m tick \u001b[38;5;129;01min\u001b[39;00m ticks \u001b[38;5;28;01mif\u001b[39;00m tick\u001b[38;5;241m.\u001b[39mlabel2\u001b[38;5;241m.\u001b[39mget_visible()])\n",
      "File \u001b[1;32md:\\05Setups\\ANACONDA\\envs\\py39\\lib\\site-packages\\matplotlib\\axis.py:1351\u001b[0m, in \u001b[0;36m<listcomp>\u001b[1;34m(.0)\u001b[0m\n\u001b[0;32m   1349\u001b[0m \u001b[38;5;28;01mif\u001b[39;00m renderer \u001b[38;5;129;01mis\u001b[39;00m \u001b[38;5;28;01mNone\u001b[39;00m:\n\u001b[0;32m   1350\u001b[0m     renderer \u001b[38;5;241m=\u001b[39m \u001b[38;5;28mself\u001b[39m\u001b[38;5;241m.\u001b[39mfigure\u001b[38;5;241m.\u001b[39m_get_renderer()\n\u001b[1;32m-> 1351\u001b[0m \u001b[38;5;28;01mreturn\u001b[39;00m ([\u001b[43mtick\u001b[49m\u001b[38;5;241;43m.\u001b[39;49m\u001b[43mlabel1\u001b[49m\u001b[38;5;241;43m.\u001b[39;49m\u001b[43mget_window_extent\u001b[49m\u001b[43m(\u001b[49m\u001b[43mrenderer\u001b[49m\u001b[43m)\u001b[49m\n\u001b[0;32m   1352\u001b[0m          \u001b[38;5;28;01mfor\u001b[39;00m tick \u001b[38;5;129;01min\u001b[39;00m ticks \u001b[38;5;28;01mif\u001b[39;00m tick\u001b[38;5;241m.\u001b[39mlabel1\u001b[38;5;241m.\u001b[39mget_visible()],\n\u001b[0;32m   1353\u001b[0m         [tick\u001b[38;5;241m.\u001b[39mlabel2\u001b[38;5;241m.\u001b[39mget_window_extent(renderer)\n\u001b[0;32m   1354\u001b[0m          \u001b[38;5;28;01mfor\u001b[39;00m tick \u001b[38;5;129;01min\u001b[39;00m ticks \u001b[38;5;28;01mif\u001b[39;00m tick\u001b[38;5;241m.\u001b[39mlabel2\u001b[38;5;241m.\u001b[39mget_visible()])\n",
      "File \u001b[1;32md:\\05Setups\\ANACONDA\\envs\\py39\\lib\\site-packages\\matplotlib\\text.py:961\u001b[0m, in \u001b[0;36mText.get_window_extent\u001b[1;34m(self, renderer, dpi)\u001b[0m\n\u001b[0;32m    959\u001b[0m bbox, info, descent \u001b[38;5;241m=\u001b[39m \u001b[38;5;28mself\u001b[39m\u001b[38;5;241m.\u001b[39m_get_layout(\u001b[38;5;28mself\u001b[39m\u001b[38;5;241m.\u001b[39m_renderer)\n\u001b[0;32m    960\u001b[0m x, y \u001b[38;5;241m=\u001b[39m \u001b[38;5;28mself\u001b[39m\u001b[38;5;241m.\u001b[39mget_unitless_position()\n\u001b[1;32m--> 961\u001b[0m x, y \u001b[38;5;241m=\u001b[39m \u001b[38;5;28;43mself\u001b[39;49m\u001b[38;5;241;43m.\u001b[39;49m\u001b[43mget_transform\u001b[49m\u001b[43m(\u001b[49m\u001b[43m)\u001b[49m\u001b[38;5;241;43m.\u001b[39;49m\u001b[43mtransform\u001b[49m\u001b[43m(\u001b[49m\u001b[43m(\u001b[49m\u001b[43mx\u001b[49m\u001b[43m,\u001b[49m\u001b[43m \u001b[49m\u001b[43my\u001b[49m\u001b[43m)\u001b[49m\u001b[43m)\u001b[49m\n\u001b[0;32m    962\u001b[0m bbox \u001b[38;5;241m=\u001b[39m bbox\u001b[38;5;241m.\u001b[39mtranslated(x, y)\n\u001b[0;32m    963\u001b[0m \u001b[38;5;28;01mreturn\u001b[39;00m bbox\n",
      "File \u001b[1;32md:\\05Setups\\ANACONDA\\envs\\py39\\lib\\site-packages\\matplotlib\\transforms.py:1505\u001b[0m, in \u001b[0;36mTransform.transform\u001b[1;34m(self, values)\u001b[0m\n\u001b[0;32m   1502\u001b[0m values \u001b[38;5;241m=\u001b[39m values\u001b[38;5;241m.\u001b[39mreshape((\u001b[38;5;241m-\u001b[39m\u001b[38;5;241m1\u001b[39m, \u001b[38;5;28mself\u001b[39m\u001b[38;5;241m.\u001b[39minput_dims))\n\u001b[0;32m   1504\u001b[0m \u001b[38;5;66;03m# Transform the values\u001b[39;00m\n\u001b[1;32m-> 1505\u001b[0m res \u001b[38;5;241m=\u001b[39m \u001b[38;5;28;43mself\u001b[39;49m\u001b[38;5;241;43m.\u001b[39;49m\u001b[43mtransform_affine\u001b[49m\u001b[43m(\u001b[49m\u001b[38;5;28;43mself\u001b[39;49m\u001b[38;5;241;43m.\u001b[39;49m\u001b[43mtransform_non_affine\u001b[49m\u001b[43m(\u001b[49m\u001b[43mvalues\u001b[49m\u001b[43m)\u001b[49m\u001b[43m)\u001b[49m\n\u001b[0;32m   1507\u001b[0m \u001b[38;5;66;03m# Convert the result back to the shape of the input values.\u001b[39;00m\n\u001b[0;32m   1508\u001b[0m \u001b[38;5;28;01mif\u001b[39;00m ndim \u001b[38;5;241m==\u001b[39m \u001b[38;5;241m0\u001b[39m:\n",
      "File \u001b[1;32md:\\05Setups\\ANACONDA\\envs\\py39\\lib\\site-packages\\matplotlib\\_api\\deprecation.py:300\u001b[0m, in \u001b[0;36mrename_parameter.<locals>.wrapper\u001b[1;34m(*args, **kwargs)\u001b[0m\n\u001b[0;32m    295\u001b[0m     warn_deprecated(\n\u001b[0;32m    296\u001b[0m         since, message\u001b[38;5;241m=\u001b[39m\u001b[38;5;124mf\u001b[39m\u001b[38;5;124m\"\u001b[39m\u001b[38;5;124mThe \u001b[39m\u001b[38;5;132;01m{\u001b[39;00mold\u001b[38;5;132;01m!r}\u001b[39;00m\u001b[38;5;124m parameter of \u001b[39m\u001b[38;5;132;01m{\u001b[39;00mfunc\u001b[38;5;241m.\u001b[39m\u001b[38;5;18m__name__\u001b[39m\u001b[38;5;132;01m}\u001b[39;00m\u001b[38;5;124m() \u001b[39m\u001b[38;5;124m\"\u001b[39m\n\u001b[0;32m    297\u001b[0m         \u001b[38;5;124mf\u001b[39m\u001b[38;5;124m\"\u001b[39m\u001b[38;5;124mhas been renamed \u001b[39m\u001b[38;5;132;01m{\u001b[39;00mnew\u001b[38;5;132;01m!r}\u001b[39;00m\u001b[38;5;124m since Matplotlib \u001b[39m\u001b[38;5;132;01m{\u001b[39;00msince\u001b[38;5;132;01m}\u001b[39;00m\u001b[38;5;124m; support \u001b[39m\u001b[38;5;124m\"\u001b[39m\n\u001b[0;32m    298\u001b[0m         \u001b[38;5;124mf\u001b[39m\u001b[38;5;124m\"\u001b[39m\u001b[38;5;124mfor the old name will be dropped %(removal)s.\u001b[39m\u001b[38;5;124m\"\u001b[39m)\n\u001b[0;32m    299\u001b[0m     kwargs[new] \u001b[38;5;241m=\u001b[39m kwargs\u001b[38;5;241m.\u001b[39mpop(old)\n\u001b[1;32m--> 300\u001b[0m \u001b[38;5;28;01mreturn\u001b[39;00m func(\u001b[38;5;241m*\u001b[39margs, \u001b[38;5;241m*\u001b[39m\u001b[38;5;241m*\u001b[39mkwargs)\n",
      "File \u001b[1;32md:\\05Setups\\ANACONDA\\envs\\py39\\lib\\site-packages\\matplotlib\\transforms.py:2428\u001b[0m, in \u001b[0;36mCompositeGenericTransform.transform_affine\u001b[1;34m(self, values)\u001b[0m\n\u001b[0;32m   2425\u001b[0m \u001b[38;5;129m@_api\u001b[39m\u001b[38;5;241m.\u001b[39mrename_parameter(\u001b[38;5;124m\"\u001b[39m\u001b[38;5;124m3.8\u001b[39m\u001b[38;5;124m\"\u001b[39m, \u001b[38;5;124m\"\u001b[39m\u001b[38;5;124mpoints\u001b[39m\u001b[38;5;124m\"\u001b[39m, \u001b[38;5;124m\"\u001b[39m\u001b[38;5;124mvalues\u001b[39m\u001b[38;5;124m\"\u001b[39m)\n\u001b[0;32m   2426\u001b[0m \u001b[38;5;28;01mdef\u001b[39;00m\u001b[38;5;250m \u001b[39m\u001b[38;5;21mtransform_affine\u001b[39m(\u001b[38;5;28mself\u001b[39m, values):\n\u001b[0;32m   2427\u001b[0m     \u001b[38;5;66;03m# docstring inherited\u001b[39;00m\n\u001b[1;32m-> 2428\u001b[0m     \u001b[38;5;28;01mreturn\u001b[39;00m \u001b[38;5;28;43mself\u001b[39;49m\u001b[38;5;241;43m.\u001b[39;49m\u001b[43mget_affine\u001b[49m\u001b[43m(\u001b[49m\u001b[43m)\u001b[49m\u001b[38;5;241m.\u001b[39mtransform(values)\n",
      "File \u001b[1;32md:\\05Setups\\ANACONDA\\envs\\py39\\lib\\site-packages\\matplotlib\\transforms.py:2455\u001b[0m, in \u001b[0;36mCompositeGenericTransform.get_affine\u001b[1;34m(self)\u001b[0m\n\u001b[0;32m   2453\u001b[0m     \u001b[38;5;28;01mreturn\u001b[39;00m \u001b[38;5;28mself\u001b[39m\u001b[38;5;241m.\u001b[39m_b\u001b[38;5;241m.\u001b[39mget_affine()\n\u001b[0;32m   2454\u001b[0m \u001b[38;5;28;01melse\u001b[39;00m:\n\u001b[1;32m-> 2455\u001b[0m     \u001b[38;5;28;01mreturn\u001b[39;00m Affine2D(\u001b[43mnp\u001b[49m\u001b[38;5;241;43m.\u001b[39;49m\u001b[43mdot\u001b[49m\u001b[43m(\u001b[49m\u001b[38;5;28;43mself\u001b[39;49m\u001b[38;5;241;43m.\u001b[39;49m\u001b[43m_b\u001b[49m\u001b[38;5;241;43m.\u001b[39;49m\u001b[43mget_affine\u001b[49m\u001b[43m(\u001b[49m\u001b[43m)\u001b[49m\u001b[38;5;241;43m.\u001b[39;49m\u001b[43mget_matrix\u001b[49m\u001b[43m(\u001b[49m\u001b[43m)\u001b[49m\u001b[43m,\u001b[49m\n\u001b[0;32m   2456\u001b[0m \u001b[43m                           \u001b[49m\u001b[38;5;28;43mself\u001b[39;49m\u001b[38;5;241;43m.\u001b[39;49m\u001b[43m_a\u001b[49m\u001b[38;5;241;43m.\u001b[39;49m\u001b[43mget_affine\u001b[49m\u001b[43m(\u001b[49m\u001b[43m)\u001b[49m\u001b[38;5;241;43m.\u001b[39;49m\u001b[43mget_matrix\u001b[49m\u001b[43m(\u001b[49m\u001b[43m)\u001b[49m\u001b[43m)\u001b[49m)\n",
      "\u001b[1;31mKeyboardInterrupt\u001b[0m: "
     ]
    }
   ],
   "source": [
    "df_realdata_split.hist(figsize=(10, 8))  # 自动为每个数值型列创建直方图\n",
    "plt.show()"
   ]
  },
  {
   "cell_type": "code",
   "execution_count": 103,
   "id": "1e542770",
   "metadata": {},
   "outputs": [
    {
     "name": "stdout",
     "output_type": "stream",
     "text": [
      "       2024-01-01 00:00:00  2024-01-01 12:00:00  2024-01-02 00:00:00  \\\n",
      "count            53.000000            54.000000            53.000000   \n",
      "mean              7.030189             7.066667             7.084906   \n",
      "std               3.135932             3.153255             3.224807   \n",
      "min               0.600000             0.600000             0.600000   \n",
      "25%               4.600000             4.625000             4.600000   \n",
      "50%               7.500000             7.350000             7.200000   \n",
      "75%               9.300000             9.250000             9.300000   \n",
      "max              12.800000            13.000000            13.000000   \n",
      "\n",
      "       2024-01-02 12:00:00  2024-01-03 00:00:00  2024-01-03 12:00:00  \\\n",
      "count            54.000000            53.000000            54.000000   \n",
      "mean              7.140741             7.643396             8.096296   \n",
      "std               3.222124             3.265467             3.287080   \n",
      "min               0.600000             0.600000             0.600000   \n",
      "25%               4.900000             5.700000             5.725000   \n",
      "50%               7.350000             8.100000             8.400000   \n",
      "75%               9.375000             9.600000            11.300000   \n",
      "max              13.000000            13.100000            13.100000   \n",
      "\n",
      "       2024-01-04 00:00:00  2024-01-04 12:00:00  2024-01-05 00:00:00  \\\n",
      "count            53.000000            54.000000            53.000000   \n",
      "mean              7.705660             7.357407             6.935849   \n",
      "std               3.417794             3.482712             3.818381   \n",
      "min               0.600000             0.600000             0.200000   \n",
      "25%               5.500000             4.550000             4.100000   \n",
      "50%               7.800000             7.350000             6.500000   \n",
      "75%              11.000000            10.375000            10.600000   \n",
      "max              13.100000            13.100000            13.100000   \n",
      "\n",
      "       2024-01-05 12:00:00  ...  2024-12-27 00:00:00  2024-12-27 12:00:00  \\\n",
      "count            54.000000  ...            38.000000            34.000000   \n",
      "mean              7.361111  ...             7.731579             7.791176   \n",
      "std               3.782203  ...             2.427334             2.548008   \n",
      "min               0.200000  ...             1.700000             1.700000   \n",
      "25%               4.350000  ...             6.600000             5.925000   \n",
      "50%               7.750000  ...             7.600000             7.650000   \n",
      "75%              10.775000  ...             9.425000             9.500000   \n",
      "max              13.100000  ...            12.500000            12.500000   \n",
      "\n",
      "       2024-12-28 00:00:00  2024-12-28 12:00:00  2024-12-29 00:00:00  \\\n",
      "count            30.000000            26.000000            22.000000   \n",
      "mean              7.723333             7.707692             8.104545   \n",
      "std               2.697596             2.877210             2.945130   \n",
      "min               1.700000             1.700000             1.700000   \n",
      "25%               5.625000             5.375000             6.000000   \n",
      "50%               7.650000             7.900000             8.650000   \n",
      "75%               9.650000             9.925000            10.225000   \n",
      "max              12.500000            12.500000            12.500000   \n",
      "\n",
      "       2024-12-29 12:00:00  2024-12-30 00:00:00  2024-12-30 12:00:00  \\\n",
      "count            18.000000             14.00000            10.000000   \n",
      "mean              7.738889              7.20000             7.740000   \n",
      "std               3.052702              3.24037             3.484633   \n",
      "min               1.700000              1.70000             1.700000   \n",
      "25%               5.000000              4.80000             5.000000   \n",
      "50%               8.350000              7.55000             8.150000   \n",
      "75%               9.925000              9.47500             9.925000   \n",
      "max              12.500000             12.50000            12.500000   \n",
      "\n",
      "       2024-12-31 00:00:00  2024-12-31 12:00:00  \n",
      "count             6.000000             2.000000  \n",
      "mean              8.300000            10.400000  \n",
      "std               4.249235             2.262742  \n",
      "min               1.700000             8.800000  \n",
      "25%               5.800000             9.600000  \n",
      "50%               9.400000            10.400000  \n",
      "75%              11.500000            11.200000  \n",
      "max              12.500000            12.000000  \n",
      "\n",
      "[8 rows x 732 columns]\n"
     ]
    }
   ],
   "source": [
    "print(df_realdata_split.describe())"
   ]
  },
  {
   "cell_type": "code",
   "execution_count": 108,
   "id": "f8e4aa46",
   "metadata": {},
   "outputs": [
    {
     "name": "stdout",
     "output_type": "stream",
     "text": [
      "最大值:\n",
      " 21.9\n",
      "最小值:\n",
      " 0     0.1\n",
      "1     0.1\n",
      "2     0.1\n",
      "3     0.4\n",
      "4     0.1\n",
      "     ... \n",
      "56    0.1\n",
      "57    0.1\n",
      "58    0.1\n",
      "59    0.4\n",
      "60    0.1\n",
      "Length: 61, dtype: float64\n"
     ]
    }
   ],
   "source": [
    "# 假设你的 DataFrame 变量为 df\n",
    "print(\"最大值:\\n\", df_realdata_split.max(axis=1).max())  # 每列最大值\n",
    "print(\"最小值:\\n\", df_realdata_split.min(axis=1))  # 每列最小值"
   ]
  },
  {
   "cell_type": "code",
   "execution_count": 105,
   "id": "7768fba2",
   "metadata": {},
   "outputs": [
    {
     "data": {
      "text/plain": [
       "nan"
      ]
     },
     "execution_count": 105,
     "metadata": {},
     "output_type": "execute_result"
    }
   ],
   "source": [
    "df_realdata_split.values.max()"
   ]
  },
  {
   "cell_type": "code",
   "execution_count": 106,
   "id": "f9f86d57",
   "metadata": {},
   "outputs": [
    {
     "data": {
      "text/plain": [
       "nan"
      ]
     },
     "execution_count": 106,
     "metadata": {},
     "output_type": "execute_result"
    }
   ],
   "source": [
    "df_realdata_split.values.min()"
   ]
  },
  {
   "cell_type": "code",
   "execution_count": null,
   "id": "9b5a19e6",
   "metadata": {},
   "outputs": [],
   "source": []
  }
 ],
 "metadata": {
  "kernelspec": {
   "display_name": "py39",
   "language": "python",
   "name": "python3"
  },
  "language_info": {
   "codemirror_mode": {
    "name": "ipython",
    "version": 3
   },
   "file_extension": ".py",
   "mimetype": "text/x-python",
   "name": "python",
   "nbconvert_exporter": "python",
   "pygments_lexer": "ipython3",
   "version": "3.9.21"
  }
 },
 "nbformat": 4,
 "nbformat_minor": 5
}
