{
 "cells": [
  {
   "cell_type": "code",
   "execution_count": 30,
   "id": "98434956",
   "metadata": {},
   "outputs": [],
   "source": [
    "import csv\n",
    "from typing import Optional,Any\n",
    "import random\n",
    "import arrow\n",
    "import numpy as np\n",
    "import pandas as pd\n",
    "import tensorflow as tf\n",
    "from keras import Sequential\n",
    "#from keras.src.layers import LSTM, Dropout, Dense\n",
    "from pandas import DatetimeIndex\n",
    "from sklearn.model_selection import train_test_split\n",
    "from sklearn.metrics import mean_squared_error\n",
    "# 可视化结果（如果需要）\n",
    "import matplotlib.pyplot as plt\n",
    "import os\n",
    "import pathlib\n",
    "import xml.etree.ElementTree as ET\n",
    "import xarray as xr\n",
    "import codecs\n",
    "import datetime\n",
    "\n",
    "# 先从海浪数据中提取出经纬度，时间，风，海浪高度\n",
    "# 解析单个文件，并存于字典内\n",
    "from sklearn.preprocessing import StandardScaler\n",
    "# from tensorflow.keras.callbacks import EarlyStopping\n",
    "from sklearn.preprocessing import MinMaxScaler\n",
    "from keras.models import load_model\n",
    "from sklearn.model_selection import train_test_split\n",
    "from sklearn.metrics import mean_squared_error\n",
    "import sys"
   ]
  },
  {
   "cell_type": "code",
   "execution_count": 31,
   "id": "ba8540c1",
   "metadata": {},
   "outputs": [],
   "source": [
    "import math"
   ]
  },
  {
   "cell_type": "markdown",
   "id": "4fb24cab",
   "metadata": {},
   "source": [
    "引发误差增大的问题是归一化器未统一：  \n",
    "1. 相同的映射关系 在训练阶段，你使用了相应的数据对归一化器（如 MinMaxScaler）进行了拟合，这意味着归一化器内部保存了数据的最小值和最大值（或其他统计量）；这些统计量定义了从原始数据到归一化数据的映射关系。 如果在预测新数据时重新拟合新的归一化器，而新数据的分布与训练数据分布存在差异，归一化器会给出不同的最小值和最大值，从而导致映射关系不一致。这可能会使模型接收到的输入数据与训练时大不相同，从而引入较大的误差或偏差。\n",
    "\n",
    "2. 一致性保证 模型在训练过程中学习到了在归一化后的特定数值区间内的特征模式，如果推理阶段数据的归一化方式不一致，输入数据的数值范围就会偏移，导致模型预测失效。 同样，在逆归一化时，如果使用了不同的归一化器，也会使得输出数据转换回原始量纲时产生误差，引起 RMSE 偏大。"
   ]
  },
  {
   "cell_type": "code",
   "execution_count": 32,
   "id": "c790bced",
   "metadata": {},
   "outputs": [],
   "source": [
    "def load_customer_model(model_path: str) -> Any:\n",
    "    if pathlib.Path(model_path).exists():\n",
    "        loaded_model = load_model(model_path)\n",
    "        \"\"\"加载后的模型\"\"\"\n",
    "        print(loaded_model.summary())\n",
    "        return loaded_model\n",
    "    return None"
   ]
  },
  {
   "cell_type": "markdown",
   "id": "c4ccc9d8",
   "metadata": {},
   "source": [
    "#### step1: 加载模型"
   ]
  },
  {
   "cell_type": "code",
   "execution_count": 33,
   "id": "5a1ba1aa",
   "metadata": {},
   "outputs": [
    {
     "name": "stdout",
     "output_type": "stream",
     "text": [
      "WARNING:tensorflow:Layer lstm will not use cuDNN kernels since it doesn't meet the criteria. It will use a generic GPU kernel as fallback when running on GPU.\n",
      "WARNING:tensorflow:Layer lstm will not use cuDNN kernels since it doesn't meet the criteria. It will use a generic GPU kernel as fallback when running on GPU.\n",
      "WARNING:tensorflow:Layer lstm will not use cuDNN kernels since it doesn't meet the criteria. It will use a generic GPU kernel as fallback when running on GPU.\n"
     ]
    },
    {
     "name": "stdout",
     "output_type": "stream",
     "text": [
      "WARNING:tensorflow:Layer lstm_1 will not use cuDNN kernels since it doesn't meet the criteria. It will use a generic GPU kernel as fallback when running on GPU.\n",
      "WARNING:tensorflow:Layer lstm_1 will not use cuDNN kernels since it doesn't meet the criteria. It will use a generic GPU kernel as fallback when running on GPU.\n",
      "WARNING:tensorflow:Layer lstm_1 will not use cuDNN kernels since it doesn't meet the criteria. It will use a generic GPU kernel as fallback when running on GPU.\n",
      "Model: \"sequential\"\n",
      "_________________________________________________________________\n",
      " Layer (type)                Output Shape              Param #   \n",
      "=================================================================\n",
      " masking (Masking)           (None, 72, 1)             0         \n",
      "                                                                 \n",
      " bidirectional (Bidirectiona  (None, 72, 256)          133120    \n",
      " l)                                                              \n",
      "                                                                 \n",
      " dropout (Dropout)           (None, 72, 256)           0         \n",
      "                                                                 \n",
      " bidirectional_1 (Bidirectio  (None, 72, 128)          164352    \n",
      " nal)                                                            \n",
      "                                                                 \n",
      " dropout_1 (Dropout)         (None, 72, 128)           0         \n",
      "                                                                 \n",
      " dense (Dense)               (None, 72, 25)            3225      \n",
      "                                                                 \n",
      "=================================================================\n",
      "Total params: 300,697\n",
      "Trainable params: 300,697\n",
      "Non-trainable params: 0\n",
      "_________________________________________________________________\n",
      "None\n"
     ]
    }
   ],
   "source": [
    "model_path: str = r'G:\\05DATA\\02MODELS\\fit_model_250603.h5'\n",
    "loaded_model = load_customer_model(model_path)"
   ]
  },
  {
   "cell_type": "markdown",
   "id": "e018c1d9",
   "metadata": {},
   "source": [
    "#### step2: 加载(实况|预报)原始数据"
   ]
  },
  {
   "cell_type": "code",
   "execution_count": 34,
   "id": "6a7f6a89",
   "metadata": {},
   "outputs": [],
   "source": [
    "forecast_path: str = r'Z:\\01TRAINNING_DATA\\standard\\df_ws_forecast.csv'\n",
    "realdata_path: str = r'Z:\\01TRAINNING_DATA\\standard\\2024_local_df_utc_filter.csv'"
   ]
  },
  {
   "cell_type": "code",
   "execution_count": 35,
   "id": "d4047538",
   "metadata": {},
   "outputs": [],
   "source": [
    "df_forecast=pd.read_csv(forecast_path,encoding='utf-8',index_col=0)\n",
    "df_realdata=pd.read_csv(realdata_path,encoding='utf-8',index_col=0)"
   ]
  },
  {
   "cell_type": "code",
   "execution_count": 36,
   "id": "f539cca1",
   "metadata": {},
   "outputs": [
    {
     "data": {
      "text/plain": [
       "(72, 732)"
      ]
     },
     "execution_count": 36,
     "metadata": {},
     "output_type": "execute_result"
    }
   ],
   "source": [
    "df_forecast.shape"
   ]
  },
  {
   "cell_type": "markdown",
   "id": "cde0668c",
   "metadata": {},
   "source": [
    "##### step2-2: 加载预报与实况的最后20%作为验证数据"
   ]
  },
  {
   "cell_type": "code",
   "execution_count": 37,
   "id": "0e9cafa1",
   "metadata": {},
   "outputs": [
    {
     "data": {
      "text/plain": [
       "147"
      ]
     },
     "execution_count": 37,
     "metadata": {},
     "output_type": "execute_result"
    }
   ],
   "source": [
    "split_count=math.ceil(df_forecast.shape[1]*0.2)\n",
    "split_count"
   ]
  },
  {
   "cell_type": "code",
   "execution_count": 38,
   "id": "db7bc29c",
   "metadata": {},
   "outputs": [],
   "source": [
    "split_df_forecast=df_forecast[df_forecast.columns[-split_count:]]\n",
    "split_df_realdata=df_realdata[df_realdata.columns[-split_count:]]"
   ]
  },
  {
   "cell_type": "code",
   "execution_count": 58,
   "id": "49e68f27",
   "metadata": {},
   "outputs": [
    {
     "name": "stdout",
     "output_type": "stream",
     "text": [
      "split_df_realdata.shape:(72, 147)\n"
     ]
    }
   ],
   "source": [
    "print(f'split_df_realdata.shape:{split_df_realdata.shape}')"
   ]
  },
  {
   "cell_type": "code",
   "execution_count": 100,
   "id": "dc7acce2",
   "metadata": {},
   "outputs": [],
   "source": [
    "# 由于存在62-71的数据，此部分应删除\n",
    "split_df_forecast=split_df_forecast.iloc[:61]\n",
    "split_df_realdata=split_df_realdata.iloc[:61]"
   ]
  },
  {
   "cell_type": "code",
   "execution_count": 101,
   "id": "155b0ee3",
   "metadata": {},
   "outputs": [
    {
     "name": "stdout",
     "output_type": "stream",
     "text": [
      "split_df_realdata.shape:(61, 147)\n"
     ]
    }
   ],
   "source": [
    "print(f'split_df_realdata.shape:{split_df_realdata.shape}')"
   ]
  },
  {
   "cell_type": "code",
   "execution_count": 102,
   "id": "107e2ecc",
   "metadata": {},
   "outputs": [],
   "source": [
    "rows: int = split_df_forecast.shape[0]\n",
    "cols: int = split_df_forecast.shape[1]\n",
    "# TODO:[-] 25-05-28 注意原始数据中: forecast (72,732), real (72,733)\n",
    "X = split_df_forecast.values.T.reshape(cols, rows, 1)\n",
    "# TODO:[*] 25-05-11 注意 y 中有存在 nan\n",
    "# ValueError: cannot reshape array of size 52776 into shape (732,72,1)\n",
    "y = split_df_realdata.values.T.reshape(cols, rows, 1)\n"
   ]
  },
  {
   "cell_type": "code",
   "execution_count": 103,
   "id": "c61da3bc",
   "metadata": {},
   "outputs": [],
   "source": [
    "# step3-2:对数据进行归一化\n",
    "# 拍扁数据为二维数组（n*timesteps, feature）进行归一化\n",
    "X_flat = X.reshape(-1, 1)\n",
    "y_flat = y.reshape(-1, 1)"
   ]
  },
  {
   "cell_type": "code",
   "execution_count": 104,
   "id": "9c036702",
   "metadata": {},
   "outputs": [
    {
     "data": {
      "text/plain": [
       "(8967, 1)"
      ]
     },
     "execution_count": 104,
     "metadata": {},
     "output_type": "execute_result"
    }
   ],
   "source": [
    "X_flat.shape"
   ]
  },
  {
   "cell_type": "code",
   "execution_count": 105,
   "id": "e90fe4c2",
   "metadata": {},
   "outputs": [],
   "source": [
    "\n",
    "# 分别为 X 和 y 定义归一化器（当然如果两者量纲一致，可用同一个 scaler）\n",
    "scaler_X = MinMaxScaler(feature_range=(0, 1))\n",
    "scaler_y = MinMaxScaler(feature_range=(0, 1))\n",
    "X_scaled = scaler_X.fit_transform(X_flat)\n",
    "y_scaled = scaler_y.fit_transform(y_flat)\n",
    "# 将归一化后的二维数据恢复为原来的3D形状\n",
    "X = X_scaled.reshape(X.shape)\n",
    "y = y_scaled.reshape(y.shape)"
   ]
  },
  {
   "cell_type": "code",
   "execution_count": 106,
   "id": "c756e9f2",
   "metadata": {},
   "outputs": [
    {
     "name": "stdout",
     "output_type": "stream",
     "text": [
      "x,shape:(147, 61, 1)\n",
      "y,shape:(147, 61, 1)\n"
     ]
    }
   ],
   "source": [
    "print(f'x,shape:{X.shape}')\n",
    "print(f'y,shape:{y.shape}')"
   ]
  },
  {
   "cell_type": "code",
   "execution_count": 107,
   "id": "db717447",
   "metadata": {},
   "outputs": [
    {
     "name": "stdout",
     "output_type": "stream",
     "text": [
      "5/5 [==============================] - 2s 193ms/step\n"
     ]
    }
   ],
   "source": [
    "# step4: 模型预测\n",
    "X = np.nan_to_num(X, nan=0.0)\n",
    "# 注意由于 model.add(Dense(25)) 加入了全连接层，最后一步对每个时间输出25维结果，所以暂时取出第一个维度的数据\n",
    "X_pred = loaded_model.predict(X)"
   ]
  },
  {
   "cell_type": "code",
   "execution_count": 108,
   "id": "0cd9943f",
   "metadata": {},
   "outputs": [
    {
     "data": {
      "text/plain": [
       "(147, 61, 25)"
      ]
     },
     "execution_count": 108,
     "metadata": {},
     "output_type": "execute_result"
    }
   ],
   "source": [
    "X_pred.shape"
   ]
  },
  {
   "cell_type": "markdown",
   "id": "5fc41e04",
   "metadata": {},
   "source": [
    "#### step3: 对预报数据进行后处理（反归一化）  \n",
    "* 由于输出的结果shape:`(147, 72, 25)`随机取最后的维度[0,24]取一个值  \n",
    "* 这里假设取 13"
   ]
  },
  {
   "cell_type": "code",
   "execution_count": 109,
   "id": "c28d66b6",
   "metadata": {},
   "outputs": [
    {
     "data": {
      "text/plain": [
       "(147, 61, 25)"
      ]
     },
     "execution_count": 109,
     "metadata": {},
     "output_type": "execute_result"
    }
   ],
   "source": [
    "X_pred.shape"
   ]
  },
  {
   "cell_type": "code",
   "execution_count": 110,
   "id": "a50d9d79",
   "metadata": {},
   "outputs": [
    {
     "data": {
      "text/plain": [
       "(147, 61)"
      ]
     },
     "execution_count": 110,
     "metadata": {},
     "output_type": "execute_result"
    }
   ],
   "source": [
    "X_fit_random=X_pred[:,:,0]\n",
    "X_fit_random.shape"
   ]
  },
  {
   "cell_type": "code",
   "execution_count": 111,
   "id": "eac5b726",
   "metadata": {},
   "outputs": [],
   "source": [
    "X_denormalize=scaler_X.inverse_transform(X_fit_random)"
   ]
  },
  {
   "cell_type": "code",
   "execution_count": 112,
   "id": "06cb3498",
   "metadata": {},
   "outputs": [],
   "source": [
    "X_denormalize=X_denormalize.T"
   ]
  },
  {
   "cell_type": "code",
   "execution_count": 113,
   "id": "61a0fb58",
   "metadata": {},
   "outputs": [
    {
     "data": {
      "text/plain": [
       "(61, 147)"
      ]
     },
     "execution_count": 113,
     "metadata": {},
     "output_type": "execute_result"
    }
   ],
   "source": [
    "split_df_realdata.shape"
   ]
  },
  {
   "cell_type": "code",
   "execution_count": 114,
   "id": "61314713",
   "metadata": {},
   "outputs": [],
   "source": [
    "y_denormalize=split_df_realdata"
   ]
  },
  {
   "cell_type": "code",
   "execution_count": 115,
   "id": "e784133e",
   "metadata": {},
   "outputs": [
    {
     "data": {
      "text/plain": [
       "(61, 147)"
      ]
     },
     "execution_count": 115,
     "metadata": {},
     "output_type": "execute_result"
    }
   ],
   "source": [
    "y_denormalize.shape"
   ]
  },
  {
   "cell_type": "code",
   "execution_count": 116,
   "id": "3a529d44",
   "metadata": {},
   "outputs": [
    {
     "data": {
      "text/html": [
       "<div>\n",
       "<style scoped>\n",
       "    .dataframe tbody tr th:only-of-type {\n",
       "        vertical-align: middle;\n",
       "    }\n",
       "\n",
       "    .dataframe tbody tr th {\n",
       "        vertical-align: top;\n",
       "    }\n",
       "\n",
       "    .dataframe thead th {\n",
       "        text-align: right;\n",
       "    }\n",
       "</style>\n",
       "<table border=\"1\" class=\"dataframe\">\n",
       "  <thead>\n",
       "    <tr style=\"text-align: right;\">\n",
       "      <th></th>\n",
       "      <th>2024-10-20 00:00:00</th>\n",
       "      <th>2024-10-20 12:00:00</th>\n",
       "      <th>2024-10-21 00:00:00</th>\n",
       "      <th>2024-10-21 12:00:00</th>\n",
       "      <th>2024-10-22 00:00:00</th>\n",
       "      <th>2024-10-22 12:00:00</th>\n",
       "      <th>2024-10-23 00:00:00</th>\n",
       "      <th>2024-10-23 12:00:00</th>\n",
       "      <th>2024-10-24 00:00:00</th>\n",
       "      <th>2024-10-24 12:00:00</th>\n",
       "      <th>...</th>\n",
       "      <th>2024-12-27 12:00:00</th>\n",
       "      <th>2024-12-28 00:00:00</th>\n",
       "      <th>2024-12-28 12:00:00</th>\n",
       "      <th>2024-12-29 00:00:00</th>\n",
       "      <th>2024-12-29 12:00:00</th>\n",
       "      <th>2024-12-30 00:00:00</th>\n",
       "      <th>2024-12-30 12:00:00</th>\n",
       "      <th>2024-12-31 00:00:00</th>\n",
       "      <th>2024-12-31 12:00:00</th>\n",
       "      <th>Unnamed: 0</th>\n",
       "    </tr>\n",
       "  </thead>\n",
       "  <tbody>\n",
       "    <tr>\n",
       "      <th>0</th>\n",
       "      <td>7.3</td>\n",
       "      <td>4.6</td>\n",
       "      <td>5.9</td>\n",
       "      <td>8.4</td>\n",
       "      <td>14.4</td>\n",
       "      <td>15.5</td>\n",
       "      <td>1.5</td>\n",
       "      <td>9.9</td>\n",
       "      <td>7.0</td>\n",
       "      <td>4.7</td>\n",
       "      <td>...</td>\n",
       "      <td>8.8</td>\n",
       "      <td>9.5</td>\n",
       "      <td>5.7</td>\n",
       "      <td>7.2</td>\n",
       "      <td>8.5</td>\n",
       "      <td>8.2</td>\n",
       "      <td>9.7</td>\n",
       "      <td>1.7</td>\n",
       "      <td>12.0</td>\n",
       "      <td>NaN</td>\n",
       "    </tr>\n",
       "    <tr>\n",
       "      <th>1</th>\n",
       "      <td>5.2</td>\n",
       "      <td>5.1</td>\n",
       "      <td>8.3</td>\n",
       "      <td>7.7</td>\n",
       "      <td>16.2</td>\n",
       "      <td>10.6</td>\n",
       "      <td>0.8</td>\n",
       "      <td>11.3</td>\n",
       "      <td>7.3</td>\n",
       "      <td>6.2</td>\n",
       "      <td>...</td>\n",
       "      <td>9.4</td>\n",
       "      <td>9.2</td>\n",
       "      <td>5.0</td>\n",
       "      <td>7.6</td>\n",
       "      <td>8.9</td>\n",
       "      <td>7.5</td>\n",
       "      <td>8.3</td>\n",
       "      <td>1.6</td>\n",
       "      <td>10.8</td>\n",
       "      <td>1.0</td>\n",
       "    </tr>\n",
       "    <tr>\n",
       "      <th>2</th>\n",
       "      <td>2.5</td>\n",
       "      <td>5.1</td>\n",
       "      <td>8.3</td>\n",
       "      <td>5.9</td>\n",
       "      <td>16.4</td>\n",
       "      <td>10.1</td>\n",
       "      <td>0.8</td>\n",
       "      <td>10.0</td>\n",
       "      <td>6.0</td>\n",
       "      <td>6.2</td>\n",
       "      <td>...</td>\n",
       "      <td>10.6</td>\n",
       "      <td>8.0</td>\n",
       "      <td>5.4</td>\n",
       "      <td>6.4</td>\n",
       "      <td>7.8</td>\n",
       "      <td>6.4</td>\n",
       "      <td>6.3</td>\n",
       "      <td>2.1</td>\n",
       "      <td>9.3</td>\n",
       "      <td>2.0</td>\n",
       "    </tr>\n",
       "    <tr>\n",
       "      <th>3</th>\n",
       "      <td>1.9</td>\n",
       "      <td>5.5</td>\n",
       "      <td>8.1</td>\n",
       "      <td>4.4</td>\n",
       "      <td>14.7</td>\n",
       "      <td>9.7</td>\n",
       "      <td>2.0</td>\n",
       "      <td>10.2</td>\n",
       "      <td>3.8</td>\n",
       "      <td>5.5</td>\n",
       "      <td>...</td>\n",
       "      <td>9.2</td>\n",
       "      <td>7.1</td>\n",
       "      <td>5.3</td>\n",
       "      <td>9.5</td>\n",
       "      <td>8.9</td>\n",
       "      <td>7.6</td>\n",
       "      <td>5.6</td>\n",
       "      <td>4.8</td>\n",
       "      <td>8.8</td>\n",
       "      <td>3.0</td>\n",
       "    </tr>\n",
       "    <tr>\n",
       "      <th>4</th>\n",
       "      <td>1.4</td>\n",
       "      <td>7.3</td>\n",
       "      <td>8.6</td>\n",
       "      <td>1.4</td>\n",
       "      <td>17.0</td>\n",
       "      <td>8.8</td>\n",
       "      <td>2.8</td>\n",
       "      <td>10.4</td>\n",
       "      <td>3.7</td>\n",
       "      <td>4.5</td>\n",
       "      <td>...</td>\n",
       "      <td>8.4</td>\n",
       "      <td>6.5</td>\n",
       "      <td>4.8</td>\n",
       "      <td>10.2</td>\n",
       "      <td>8.8</td>\n",
       "      <td>7.2</td>\n",
       "      <td>8.1</td>\n",
       "      <td>7.6</td>\n",
       "      <td>NaN</td>\n",
       "      <td>4.0</td>\n",
       "    </tr>\n",
       "    <tr>\n",
       "      <th>...</th>\n",
       "      <td>...</td>\n",
       "      <td>...</td>\n",
       "      <td>...</td>\n",
       "      <td>...</td>\n",
       "      <td>...</td>\n",
       "      <td>...</td>\n",
       "      <td>...</td>\n",
       "      <td>...</td>\n",
       "      <td>...</td>\n",
       "      <td>...</td>\n",
       "      <td>...</td>\n",
       "      <td>...</td>\n",
       "      <td>...</td>\n",
       "      <td>...</td>\n",
       "      <td>...</td>\n",
       "      <td>...</td>\n",
       "      <td>...</td>\n",
       "      <td>...</td>\n",
       "      <td>...</td>\n",
       "      <td>...</td>\n",
       "      <td>...</td>\n",
       "    </tr>\n",
       "    <tr>\n",
       "      <th>56</th>\n",
       "      <td>14.1</td>\n",
       "      <td>6.1</td>\n",
       "      <td>7.0</td>\n",
       "      <td>8.5</td>\n",
       "      <td>1.2</td>\n",
       "      <td>6.2</td>\n",
       "      <td>4.6</td>\n",
       "      <td>2.4</td>\n",
       "      <td>2.8</td>\n",
       "      <td>12.3</td>\n",
       "      <td>...</td>\n",
       "      <td>10.6</td>\n",
       "      <td>4.2</td>\n",
       "      <td>5.7</td>\n",
       "      <td>10.7</td>\n",
       "      <td>NaN</td>\n",
       "      <td>NaN</td>\n",
       "      <td>NaN</td>\n",
       "      <td>NaN</td>\n",
       "      <td>NaN</td>\n",
       "      <td>NaN</td>\n",
       "    </tr>\n",
       "    <tr>\n",
       "      <th>57</th>\n",
       "      <td>13.6</td>\n",
       "      <td>3.7</td>\n",
       "      <td>8.1</td>\n",
       "      <td>8.8</td>\n",
       "      <td>2.5</td>\n",
       "      <td>5.7</td>\n",
       "      <td>5.0</td>\n",
       "      <td>1.9</td>\n",
       "      <td>7.4</td>\n",
       "      <td>15.2</td>\n",
       "      <td>...</td>\n",
       "      <td>10.3</td>\n",
       "      <td>3.7</td>\n",
       "      <td>4.8</td>\n",
       "      <td>12.5</td>\n",
       "      <td>NaN</td>\n",
       "      <td>NaN</td>\n",
       "      <td>NaN</td>\n",
       "      <td>NaN</td>\n",
       "      <td>NaN</td>\n",
       "      <td>NaN</td>\n",
       "    </tr>\n",
       "    <tr>\n",
       "      <th>58</th>\n",
       "      <td>14.9</td>\n",
       "      <td>2.6</td>\n",
       "      <td>8.2</td>\n",
       "      <td>9.0</td>\n",
       "      <td>3.4</td>\n",
       "      <td>6.9</td>\n",
       "      <td>4.9</td>\n",
       "      <td>2.2</td>\n",
       "      <td>6.3</td>\n",
       "      <td>15.4</td>\n",
       "      <td>...</td>\n",
       "      <td>9.8</td>\n",
       "      <td>5.7</td>\n",
       "      <td>4.6</td>\n",
       "      <td>11.7</td>\n",
       "      <td>NaN</td>\n",
       "      <td>NaN</td>\n",
       "      <td>NaN</td>\n",
       "      <td>NaN</td>\n",
       "      <td>NaN</td>\n",
       "      <td>NaN</td>\n",
       "    </tr>\n",
       "    <tr>\n",
       "      <th>59</th>\n",
       "      <td>14.5</td>\n",
       "      <td>2.2</td>\n",
       "      <td>8.8</td>\n",
       "      <td>8.5</td>\n",
       "      <td>4.1</td>\n",
       "      <td>8.1</td>\n",
       "      <td>5.4</td>\n",
       "      <td>2.0</td>\n",
       "      <td>5.7</td>\n",
       "      <td>16.0</td>\n",
       "      <td>...</td>\n",
       "      <td>8.3</td>\n",
       "      <td>10.4</td>\n",
       "      <td>3.5</td>\n",
       "      <td>12.5</td>\n",
       "      <td>NaN</td>\n",
       "      <td>NaN</td>\n",
       "      <td>NaN</td>\n",
       "      <td>NaN</td>\n",
       "      <td>NaN</td>\n",
       "      <td>NaN</td>\n",
       "    </tr>\n",
       "    <tr>\n",
       "      <th>60</th>\n",
       "      <td>15.5</td>\n",
       "      <td>1.5</td>\n",
       "      <td>9.9</td>\n",
       "      <td>7.0</td>\n",
       "      <td>4.7</td>\n",
       "      <td>8.0</td>\n",
       "      <td>5.6</td>\n",
       "      <td>2.0</td>\n",
       "      <td>5.4</td>\n",
       "      <td>14.6</td>\n",
       "      <td>...</td>\n",
       "      <td>8.2</td>\n",
       "      <td>9.7</td>\n",
       "      <td>1.7</td>\n",
       "      <td>12.0</td>\n",
       "      <td>NaN</td>\n",
       "      <td>NaN</td>\n",
       "      <td>NaN</td>\n",
       "      <td>NaN</td>\n",
       "      <td>NaN</td>\n",
       "      <td>NaN</td>\n",
       "    </tr>\n",
       "  </tbody>\n",
       "</table>\n",
       "<p>61 rows × 147 columns</p>\n",
       "</div>"
      ],
      "text/plain": [
       "    2024-10-20 00:00:00  2024-10-20 12:00:00  2024-10-21 00:00:00  \\\n",
       "0                   7.3                  4.6                  5.9   \n",
       "1                   5.2                  5.1                  8.3   \n",
       "2                   2.5                  5.1                  8.3   \n",
       "3                   1.9                  5.5                  8.1   \n",
       "4                   1.4                  7.3                  8.6   \n",
       "..                  ...                  ...                  ...   \n",
       "56                 14.1                  6.1                  7.0   \n",
       "57                 13.6                  3.7                  8.1   \n",
       "58                 14.9                  2.6                  8.2   \n",
       "59                 14.5                  2.2                  8.8   \n",
       "60                 15.5                  1.5                  9.9   \n",
       "\n",
       "    2024-10-21 12:00:00  2024-10-22 00:00:00  2024-10-22 12:00:00  \\\n",
       "0                   8.4                 14.4                 15.5   \n",
       "1                   7.7                 16.2                 10.6   \n",
       "2                   5.9                 16.4                 10.1   \n",
       "3                   4.4                 14.7                  9.7   \n",
       "4                   1.4                 17.0                  8.8   \n",
       "..                  ...                  ...                  ...   \n",
       "56                  8.5                  1.2                  6.2   \n",
       "57                  8.8                  2.5                  5.7   \n",
       "58                  9.0                  3.4                  6.9   \n",
       "59                  8.5                  4.1                  8.1   \n",
       "60                  7.0                  4.7                  8.0   \n",
       "\n",
       "    2024-10-23 00:00:00  2024-10-23 12:00:00  2024-10-24 00:00:00  \\\n",
       "0                   1.5                  9.9                  7.0   \n",
       "1                   0.8                 11.3                  7.3   \n",
       "2                   0.8                 10.0                  6.0   \n",
       "3                   2.0                 10.2                  3.8   \n",
       "4                   2.8                 10.4                  3.7   \n",
       "..                  ...                  ...                  ...   \n",
       "56                  4.6                  2.4                  2.8   \n",
       "57                  5.0                  1.9                  7.4   \n",
       "58                  4.9                  2.2                  6.3   \n",
       "59                  5.4                  2.0                  5.7   \n",
       "60                  5.6                  2.0                  5.4   \n",
       "\n",
       "    2024-10-24 12:00:00  ...  2024-12-27 12:00:00  2024-12-28 00:00:00  \\\n",
       "0                   4.7  ...                  8.8                  9.5   \n",
       "1                   6.2  ...                  9.4                  9.2   \n",
       "2                   6.2  ...                 10.6                  8.0   \n",
       "3                   5.5  ...                  9.2                  7.1   \n",
       "4                   4.5  ...                  8.4                  6.5   \n",
       "..                  ...  ...                  ...                  ...   \n",
       "56                 12.3  ...                 10.6                  4.2   \n",
       "57                 15.2  ...                 10.3                  3.7   \n",
       "58                 15.4  ...                  9.8                  5.7   \n",
       "59                 16.0  ...                  8.3                 10.4   \n",
       "60                 14.6  ...                  8.2                  9.7   \n",
       "\n",
       "    2024-12-28 12:00:00  2024-12-29 00:00:00  2024-12-29 12:00:00  \\\n",
       "0                   5.7                  7.2                  8.5   \n",
       "1                   5.0                  7.6                  8.9   \n",
       "2                   5.4                  6.4                  7.8   \n",
       "3                   5.3                  9.5                  8.9   \n",
       "4                   4.8                 10.2                  8.8   \n",
       "..                  ...                  ...                  ...   \n",
       "56                  5.7                 10.7                  NaN   \n",
       "57                  4.8                 12.5                  NaN   \n",
       "58                  4.6                 11.7                  NaN   \n",
       "59                  3.5                 12.5                  NaN   \n",
       "60                  1.7                 12.0                  NaN   \n",
       "\n",
       "    2024-12-30 00:00:00  2024-12-30 12:00:00  2024-12-31 00:00:00  \\\n",
       "0                   8.2                  9.7                  1.7   \n",
       "1                   7.5                  8.3                  1.6   \n",
       "2                   6.4                  6.3                  2.1   \n",
       "3                   7.6                  5.6                  4.8   \n",
       "4                   7.2                  8.1                  7.6   \n",
       "..                  ...                  ...                  ...   \n",
       "56                  NaN                  NaN                  NaN   \n",
       "57                  NaN                  NaN                  NaN   \n",
       "58                  NaN                  NaN                  NaN   \n",
       "59                  NaN                  NaN                  NaN   \n",
       "60                  NaN                  NaN                  NaN   \n",
       "\n",
       "    2024-12-31 12:00:00  Unnamed: 0  \n",
       "0                  12.0         NaN  \n",
       "1                  10.8         1.0  \n",
       "2                   9.3         2.0  \n",
       "3                   8.8         3.0  \n",
       "4                   NaN         4.0  \n",
       "..                  ...         ...  \n",
       "56                  NaN         NaN  \n",
       "57                  NaN         NaN  \n",
       "58                  NaN         NaN  \n",
       "59                  NaN         NaN  \n",
       "60                  NaN         NaN  \n",
       "\n",
       "[61 rows x 147 columns]"
      ]
     },
     "execution_count": 116,
     "metadata": {},
     "output_type": "execute_result"
    }
   ],
   "source": [
    "y_denormalize"
   ]
  },
  {
   "cell_type": "markdown",
   "id": "647b0377",
   "metadata": {},
   "source": [
    "#### step5: 求`fit`与`实况`数据的`RMSE`  \n",
    "此处计算有问题"
   ]
  },
  {
   "cell_type": "code",
   "execution_count": 117,
   "id": "390d995b",
   "metadata": {},
   "outputs": [],
   "source": [
    "# 计算差值的平方\n",
    "squared_errors = (X_denormalize - y_denormalize)**2\n",
    "\n",
    "# 计算每列的均方误差 (MSE)\n",
    "mse_per_column = squared_errors.mean(axis=1) # axis=0 表示按列计算均值\n",
    "\n",
    "# 计算每列的均方根误差 (RMSE)\n",
    "rmse = np.sqrt(mse_per_column)"
   ]
  },
  {
   "cell_type": "code",
   "execution_count": 121,
   "id": "480f1ead",
   "metadata": {},
   "outputs": [
    {
     "data": {
      "text/plain": [
       "[5.660097816802773,\n",
       " 5.588412693594031,\n",
       " 5.293640462929278,\n",
       " 5.03209804482835,\n",
       " 5.150969676044047,\n",
       " 4.946688901344619,\n",
       " 4.736130915475559,\n",
       " 4.683080520940046,\n",
       " 4.553421602844644,\n",
       " 4.485158889682563,\n",
       " 4.550124552316524,\n",
       " 4.631944927477383,\n",
       " 4.645582526942061,\n",
       " 4.784737666877715,\n",
       " 4.659747727015063,\n",
       " 4.4997108991631,\n",
       " 4.70153777822001,\n",
       " 4.603598456138625,\n",
       " 4.493290995961134,\n",
       " 4.510118519581167,\n",
       " 4.456660410721432,\n",
       " 4.431672189677956,\n",
       " 4.521099603422327,\n",
       " 4.604910402309739,\n",
       " 4.641585604110262,\n",
       " 4.798099488334956,\n",
       " 4.684898751236483,\n",
       " 4.580881829611512,\n",
       " 4.7997574632161095,\n",
       " 4.723502408053693,\n",
       " 4.174435029017736,\n",
       " 4.1711878405461205,\n",
       " 4.123166804132873,\n",
       " 4.085429408983632,\n",
       " 4.190150558205821,\n",
       " 4.285593397652603,\n",
       " 4.322836892519343,\n",
       " 4.453311629809547,\n",
       " 4.321098209271313,\n",
       " 4.155510160475346,\n",
       " 4.352668702200714,\n",
       " 4.241349548008398,\n",
       " 4.1368924175523505,\n",
       " 4.145958813213223,\n",
       " 4.085327934065692,\n",
       " 4.023838362242033,\n",
       " 4.086177054539846,\n",
       " 4.147140376901455,\n",
       " 4.133074782937769,\n",
       " 4.249840496063588,\n",
       " 4.086542918673175,\n",
       " 3.9197498409722145,\n",
       " 4.102938003479149,\n",
       " 3.986966930184555,\n",
       " 3.8647224758809573,\n",
       " 3.9331858764253624,\n",
       " 3.9180992832447967,\n",
       " 3.9740492815520265,\n",
       " 4.116788497204516,\n",
       " 4.376182154338862,\n",
       " 4.6637721273972055]"
      ]
     },
     "execution_count": 121,
     "metadata": {},
     "output_type": "execute_result"
    }
   ],
   "source": [
    "rmse.to_list()"
   ]
  },
  {
   "cell_type": "code",
   "execution_count": 119,
   "id": "50818a75",
   "metadata": {},
   "outputs": [
    {
     "data": {
      "image/png": "[encoded data removed]",
      "text/plain": [
       "<Figure size 1000x600 with 1 Axes>"
      ]
     },
     "metadata": {},
     "output_type": "display_data"
    }
   ],
   "source": [
    "plt.figure(figsize=(10,6))\n",
    "plt.plot(rmse.index, rmse.values, marker='o', linestyle='-', color='blue')\n",
    "plt.xlabel('time (0 to 71)')\n",
    "plt.ylabel('RMSE')\n",
    "plt.title('forecast RMSE ')\n",
    "plt.grid(True)\n",
    "plt.show()"
   ]
  },
  {
   "cell_type": "code",
   "execution_count": 29,
   "id": "f9cc1838",
   "metadata": {},
   "outputs": [],
   "source": [
    "# 25-06-04 新加入的步骤 存储RMSE 至 csv中\n",
    "rmse.to_csv('./../../data/model_forecast_rmse.csv')"
   ]
  },
  {
   "cell_type": "markdown",
   "id": "40e9bdfa",
   "metadata": {},
   "source": [
    "分别加载原始预报RMSE以及修订后的RMSE"
   ]
  },
  {
   "cell_type": "code",
   "execution_count": 35,
   "id": "2ed0749c",
   "metadata": {},
   "outputs": [],
   "source": [
    "df=pd.read_csv('./../../data/model_forecast_rmse.csv')\n",
    "df_source=pd.read_csv('./../../data/source_forecast_rmse.csv')"
   ]
  },
  {
   "cell_type": "code",
   "execution_count": 34,
   "id": "a9df4ab1",
   "metadata": {},
   "outputs": [],
   "source": [
    "model_rmse_series=df['0']"
   ]
  },
  {
   "cell_type": "code",
   "execution_count": 36,
   "id": "79ba04db",
   "metadata": {},
   "outputs": [],
   "source": [
    "source_rmse_series=df_source['0']"
   ]
  },
  {
   "cell_type": "code",
   "execution_count": 37,
   "id": "40ce9a01",
   "metadata": {},
   "outputs": [
    {
     "data": {
      "image/png": "[encoded data removed]",
      "text/plain": [
       "<Figure size 800x500 with 1 Axes>"
      ]
     },
     "metadata": {},
     "output_type": "display_data"
    }
   ],
   "source": [
    "# 创建图表\n",
    "plt.figure(figsize=(8, 5))  # 设置图像大小\n",
    "plt.plot(model_rmse_series, label=\"fit model forecast\", marker='o')  # 绘制第一条线\n",
    "plt.plot(source_rmse_series, label=\"source forecast\", marker='s')  # 绘制第二条线\n",
    "\n",
    "# 添加标题和标签\n",
    "plt.title(\"Series Comparison\")\n",
    "plt.xlabel(\"Index\")\n",
    "plt.ylabel(\"Values\")\n",
    "plt.legend()  # 显示图例\n",
    "plt.grid()  # 添加网格线\n",
    "\n",
    "# 显示图表\n",
    "plt.show()"
   ]
  },
  {
   "cell_type": "markdown",
   "id": "3503fb4e",
   "metadata": {},
   "source": [
    "#### step6: 计算MAE以及偏差"
   ]
  },
  {
   "cell_type": "code",
   "execution_count": 53,
   "id": "80dae4de",
   "metadata": {},
   "outputs": [],
   "source": [
    "# 计算误差：预测值与实际值的差值\n",
    "error = df_forecast - df_realdata\n",
    "\n",
    "# 计算每一列的 MAE\n",
    "mae_per_column = np.abs(error).mean(axis=1)\n",
    "\n",
    "# 计算每一列的 Bias\n",
    "bias_per_column = error.mean(axis=1)\n",
    "\n",
    "# 如果需要，可以计算所有列 MAE 或 Bias 的均值作为整体指标\n",
    "overall_mean_mae = mae_per_column.mean()\n",
    "overall_mean_bias = bias_per_column.mean()\n"
   ]
  },
  {
   "cell_type": "code",
   "execution_count": 54,
   "id": "2e1ae49c",
   "metadata": {},
   "outputs": [
    {
     "name": "stdout",
     "output_type": "stream",
     "text": [
      "每列 MAE:\n",
      "0     1.315412\n",
      "1     1.537702\n",
      "2     1.942189\n",
      "3     2.211387\n",
      "4     2.532701\n",
      "        ...   \n",
      "67         NaN\n",
      "68         NaN\n",
      "69         NaN\n",
      "70         NaN\n",
      "71         NaN\n",
      "Length: 72, dtype: float64\n",
      "所有列 MAE 的均值: 3.563169011107653\n"
     ]
    }
   ],
   "source": [
    "print(\"每列 MAE:\")\n",
    "print(mae_per_column)\n",
    "print(\"所有列 MAE 的均值:\", overall_mean_mae)"
   ]
  },
  {
   "cell_type": "code",
   "execution_count": 57,
   "id": "995566d0",
   "metadata": {},
   "outputs": [
    {
     "data": {
      "image/png": "[encoded data removed]",
      "text/plain": [
       "<Figure size 1000x600 with 1 Axes>"
      ]
     },
     "metadata": {},
     "output_type": "display_data"
    }
   ],
   "source": [
    "plt.figure(figsize=(10,6))\n",
    "plt.plot(mae_per_column.index, mae_per_column.values, marker='o', linestyle='-', color='blue')\n",
    "plt.xlabel('time (0 to 71)')\n",
    "plt.ylabel('MAE')\n",
    "plt.title('forecast MAE ')\n",
    "plt.grid(True)\n",
    "plt.show()"
   ]
  },
  {
   "cell_type": "code",
   "execution_count": 55,
   "id": "dd88eb45",
   "metadata": {},
   "outputs": [
    {
     "name": "stdout",
     "output_type": "stream",
     "text": [
      "每列 Bias:\n",
      "0     0.146593\n",
      "1     0.342671\n",
      "2     0.337135\n",
      "3     0.275822\n",
      "4     0.121570\n",
      "        ...   \n",
      "67         NaN\n",
      "68         NaN\n",
      "69         NaN\n",
      "70         NaN\n",
      "71         NaN\n",
      "Length: 72, dtype: float64\n",
      "所有列 Bias 的均值: 0.05195199148354405\n"
     ]
    }
   ],
   "source": [
    "print(\"每列 Bias:\")\n",
    "print(bias_per_column)\n",
    "print(\"所有列 Bias 的均值:\", overall_mean_bias)"
   ]
  },
  {
   "cell_type": "code",
   "execution_count": 62,
   "id": "1d4ea259",
   "metadata": {},
   "outputs": [
    {
     "data": {
      "text/plain": [
       "[0.14659264966415114,\n",
       " 0.3426706571654673,\n",
       " 0.33713474385793396,\n",
       " 0.27582230609579783,\n",
       " 0.12156985835141215,\n",
       " 0.345781078136788,\n",
       " 0.16518114527031563,\n",
       " 0.017601930309714454,\n",
       " 0.1898193368307309,\n",
       " 0.3770846310523737,\n",
       " 0.10999946217401942,\n",
       " -0.035157742915884214,\n",
       " -0.030343636474579862,\n",
       " 0.02311034559527518,\n",
       " 0.09443327428958836,\n",
       " 0.007783788297681521,\n",
       " -0.07381297327537242,\n",
       " 0.10440122556408163,\n",
       " 0.09509527359960761,\n",
       " -0.0693672170143733,\n",
       " 0.07711802994350135,\n",
       " 0.18728752445909097,\n",
       " 0.03133371953360634,\n",
       " -0.012896527960009549,\n",
       " 0.04159503966113734,\n",
       " 0.07489880929872227,\n",
       " 0.03786629994181996,\n",
       " 0.07389313593703555,\n",
       " -0.028227281877174076,\n",
       " 0.0762296332708909,\n",
       " 0.0818671460858398,\n",
       " -0.018044130823878568,\n",
       " 0.19517143543425317,\n",
       " 0.251730162769702,\n",
       " 0.061219555256883065,\n",
       " -0.021303529543711695,\n",
       " -0.02313268269552925,\n",
       " -0.026041141999115,\n",
       " -0.20593474120029218,\n",
       " -0.047000708480532664,\n",
       " -0.06762311127037447,\n",
       " -0.23155217485422916,\n",
       " -0.04347099949054808,\n",
       " -0.08553595974710991,\n",
       " -0.11521294439711004,\n",
       " 0.0572642745426952,\n",
       " -0.019080956969133547,\n",
       " -0.027045519614139875,\n",
       " -0.11810823885221002,\n",
       " -0.04413657758637875,\n",
       " -0.13924833285195112,\n",
       " 0.061851657731100976,\n",
       " -0.026489464552127077,\n",
       " -0.03483655769407153,\n",
       " 0.06743633260859487,\n",
       " -0.02499378119169245,\n",
       " 0.16956966606681578,\n",
       " 0.1739869320829495,\n",
       " 0.14824165086043425,\n",
       " 0.1480952506011994,\n",
       " -0.033069548513495764,\n",
       " nan,\n",
       " nan,\n",
       " nan,\n",
       " nan,\n",
       " nan,\n",
       " nan,\n",
       " nan,\n",
       " nan,\n",
       " nan,\n",
       " nan,\n",
       " nan]"
      ]
     },
     "execution_count": 62,
     "metadata": {},
     "output_type": "execute_result"
    }
   ],
   "source": [
    "bias_per_column.tolist()"
   ]
  },
  {
   "cell_type": "code",
   "execution_count": 60,
   "id": "730ee1c6",
   "metadata": {},
   "outputs": [
    {
     "data": {
      "image/png": "[encoded data removed]",
      "text/plain": [
       "<Figure size 1000x600 with 1 Axes>"
      ]
     },
     "metadata": {},
     "output_type": "display_data"
    }
   ],
   "source": [
    "plt.figure(figsize=(10,6))\n",
    "plt.plot(bias_per_column.index, bias_per_column.values, marker='o', linestyle='-', color='blue')\n",
    "plt.xlabel('time (0 to 71)')\n",
    "plt.ylabel('Bias')\n",
    "plt.title('forecast Bias ')\n",
    "plt.grid(True)\n",
    "plt.show()"
   ]
  },
  {
   "cell_type": "code",
   "execution_count": null,
   "id": "f810e1fe",
   "metadata": {},
   "outputs": [],
   "source": []
  }
 ],
 "metadata": {
  "kernelspec": {
   "display_name": "py39",
   "language": "python",
   "name": "python3"
  },
  "language_info": {
   "codemirror_mode": {
    "name": "ipython",
    "version": 3
   },
   "file_extension": ".py",
   "mimetype": "text/x-python",
   "name": "python",
   "nbconvert_exporter": "python",
   "pygments_lexer": "ipython3",
   "version": "3.9.21"
  }
 },
 "nbformat": 4,
 "nbformat_minor": 5
}
