{
 "cells": [
  {
   "cell_type": "code",
   "execution_count": 40,
   "metadata": {
    "collapsed": true
   },
   "outputs": [],
   "source": [
    "import arrow\n",
    "import numpy as np\n",
    "import pandas as pd\n",
    "import tensorflow as tf\n",
    "from sklearn.model_selection import train_test_split\n",
    "import os\n",
    "import pathlib\n",
    "import xml.etree.ElementTree as ET\n",
    "import xarray as xr\n",
    "import codecs\n",
    "import datetime"
   ]
  },
  {
   "cell_type": "code",
   "execution_count": 41,
   "metadata": {},
   "outputs": [],
   "source": [
    "read_file_full_path: str = r'G:\\05DATA\\01TRAINING_DATA\\FUB\\MF01001\\2024_local.csv'\n",
    "df: pd.DataFrame = pd.read_csv(read_file_full_path)"
   ]
  },
  {
   "cell_type": "code",
   "execution_count": 42,
   "metadata": {},
   "outputs": [
    {
     "data": {
      "text/html": [
       "<div>\n",
       "<style scoped>\n",
       "    .dataframe tbody tr th:only-of-type {\n",
       "        vertical-align: middle;\n",
       "    }\n",
       "\n",
       "    .dataframe tbody tr th {\n",
       "        vertical-align: top;\n",
       "    }\n",
       "\n",
       "    .dataframe thead th {\n",
       "        text-align: right;\n",
       "    }\n",
       "</style>\n",
       "<table border=\"1\" class=\"dataframe\">\n",
       "  <thead>\n",
       "    <tr style=\"text-align: right;\">\n",
       "      <th></th>\n",
       "      <th>time</th>\n",
       "      <th>longitude</th>\n",
       "      <th>latitude</th>\n",
       "      <th>WS</th>\n",
       "      <th>YBG</th>\n",
       "    </tr>\n",
       "  </thead>\n",
       "  <tbody>\n",
       "    <tr>\n",
       "      <th>0</th>\n",
       "      <td>202401010000</td>\n",
       "      <td>120.595167</td>\n",
       "      <td>39.500333</td>\n",
       "      <td>10.4</td>\n",
       "      <td>1.9</td>\n",
       "    </tr>\n",
       "    <tr>\n",
       "      <th>1</th>\n",
       "      <td>202401010100</td>\n",
       "      <td>120.594667</td>\n",
       "      <td>39.500000</td>\n",
       "      <td>10.1</td>\n",
       "      <td>1.6</td>\n",
       "    </tr>\n",
       "    <tr>\n",
       "      <th>2</th>\n",
       "      <td>202401010200</td>\n",
       "      <td>120.594667</td>\n",
       "      <td>39.500333</td>\n",
       "      <td>7.9</td>\n",
       "      <td>1.5</td>\n",
       "    </tr>\n",
       "    <tr>\n",
       "      <th>3</th>\n",
       "      <td>202401010300</td>\n",
       "      <td>120.595167</td>\n",
       "      <td>39.500500</td>\n",
       "      <td>6.9</td>\n",
       "      <td>1.2</td>\n",
       "    </tr>\n",
       "    <tr>\n",
       "      <th>4</th>\n",
       "      <td>202401010400</td>\n",
       "      <td>120.595000</td>\n",
       "      <td>39.500500</td>\n",
       "      <td>5.7</td>\n",
       "      <td>1.2</td>\n",
       "    </tr>\n",
       "  </tbody>\n",
       "</table>\n",
       "</div>"
      ],
      "text/plain": [
       "           time   longitude   latitude    WS  YBG\n",
       "0  202401010000  120.595167  39.500333  10.4  1.9\n",
       "1  202401010100  120.594667  39.500000  10.1  1.6\n",
       "2  202401010200  120.594667  39.500333   7.9  1.5\n",
       "3  202401010300  120.595167  39.500500   6.9  1.2\n",
       "4  202401010400  120.595000  39.500500   5.7  1.2"
      ]
     },
     "execution_count": 42,
     "metadata": {},
     "output_type": "execute_result"
    }
   ],
   "source": [
    "df.head()"
   ]
  },
  {
   "cell_type": "code",
   "execution_count": 43,
   "metadata": {},
   "outputs": [
    {
     "data": {
      "text/html": [
       "<div>\n",
       "<style scoped>\n",
       "    .dataframe tbody tr th:only-of-type {\n",
       "        vertical-align: middle;\n",
       "    }\n",
       "\n",
       "    .dataframe tbody tr th {\n",
       "        vertical-align: top;\n",
       "    }\n",
       "\n",
       "    .dataframe thead th {\n",
       "        text-align: right;\n",
       "    }\n",
       "</style>\n",
       "<table border=\"1\" class=\"dataframe\">\n",
       "  <thead>\n",
       "    <tr style=\"text-align: right;\">\n",
       "      <th></th>\n",
       "      <th>time</th>\n",
       "      <th>longitude</th>\n",
       "      <th>latitude</th>\n",
       "      <th>WS</th>\n",
       "      <th>YBG</th>\n",
       "    </tr>\n",
       "  </thead>\n",
       "  <tbody>\n",
       "    <tr>\n",
       "      <th>8882</th>\n",
       "      <td>202412311900</td>\n",
       "      <td>120.609667</td>\n",
       "      <td>39.503000</td>\n",
       "      <td>12.5</td>\n",
       "      <td>1.7</td>\n",
       "    </tr>\n",
       "    <tr>\n",
       "      <th>8883</th>\n",
       "      <td>202412312000</td>\n",
       "      <td>120.609667</td>\n",
       "      <td>39.503000</td>\n",
       "      <td>12.0</td>\n",
       "      <td>1.5</td>\n",
       "    </tr>\n",
       "    <tr>\n",
       "      <th>8884</th>\n",
       "      <td>202412312100</td>\n",
       "      <td>120.609667</td>\n",
       "      <td>39.503000</td>\n",
       "      <td>10.8</td>\n",
       "      <td>1.6</td>\n",
       "    </tr>\n",
       "    <tr>\n",
       "      <th>8885</th>\n",
       "      <td>202412312200</td>\n",
       "      <td>120.609667</td>\n",
       "      <td>39.503167</td>\n",
       "      <td>9.3</td>\n",
       "      <td>1.5</td>\n",
       "    </tr>\n",
       "    <tr>\n",
       "      <th>8886</th>\n",
       "      <td>202412312300</td>\n",
       "      <td>120.609500</td>\n",
       "      <td>39.503333</td>\n",
       "      <td>8.8</td>\n",
       "      <td>1.3</td>\n",
       "    </tr>\n",
       "  </tbody>\n",
       "</table>\n",
       "</div>"
      ],
      "text/plain": [
       "              time   longitude   latitude    WS  YBG\n",
       "8882  202412311900  120.609667  39.503000  12.5  1.7\n",
       "8883  202412312000  120.609667  39.503000  12.0  1.5\n",
       "8884  202412312100  120.609667  39.503000  10.8  1.6\n",
       "8885  202412312200  120.609667  39.503167   9.3  1.5\n",
       "8886  202412312300  120.609500  39.503333   8.8  1.3"
      ]
     },
     "execution_count": 43,
     "metadata": {},
     "output_type": "execute_result"
    }
   ],
   "source": [
    "df[-5:]"
   ]
  },
  {
   "cell_type": "code",
   "execution_count": 44,
   "metadata": {},
   "outputs": [],
   "source": [
    "# 将time列的内容从int64 => str\n",
    "df['time']=df['time'].astype(str)"
   ]
  },
  {
   "cell_type": "code",
   "execution_count": 45,
   "metadata": {},
   "outputs": [],
   "source": [
    "df['time']=pd.to_datetime(df['time'], format='%Y%m%d%H%M')"
   ]
  },
  {
   "cell_type": "code",
   "execution_count": 47,
   "metadata": {},
   "outputs": [],
   "source": [
    "# df['time']"
   ]
  },
  {
   "cell_type": "code",
   "execution_count": 22,
   "metadata": {},
   "outputs": [],
   "source": [
    "mask=df['time']=='202401010000'"
   ]
  },
  {
   "cell_type": "code",
   "execution_count": 23,
   "metadata": {},
   "outputs": [
    {
     "data": {
      "text/plain": [
       "Index([0], dtype='int64')"
      ]
     },
     "execution_count": 23,
     "metadata": {},
     "output_type": "execute_result"
    }
   ],
   "source": [
    "df.index[mask]"
   ]
  },
  {
   "cell_type": "code",
   "execution_count": 19,
   "metadata": {},
   "outputs": [
    {
     "data": {
      "text/plain": [
       "numpy.int64"
      ]
     },
     "execution_count": 19,
     "metadata": {},
     "output_type": "execute_result"
    }
   ],
   "source": [
    "type(df['time'][0])"
   ]
  },
  {
   "cell_type": "code",
   "execution_count": 24,
   "metadata": {},
   "outputs": [
    {
     "data": {
      "text/plain": [
       "(8887, 5)"
      ]
     },
     "execution_count": 24,
     "metadata": {},
     "output_type": "execute_result"
    }
   ],
   "source": [
    "df.shape"
   ]
  },
  {
   "cell_type": "markdown",
   "metadata": {},
   "source": [
    "#### step2:   \n",
    "生成一整年的时间集合，时间步长1hour;并将原始dataframe的index以time series为索引生成标准索引，并填充nan"
   ]
  },
  {
   "cell_type": "code",
   "execution_count": 48,
   "metadata": {},
   "outputs": [
    {
     "name": "stderr",
     "output_type": "stream",
     "text": [
      "C:\\Users\\evase\\AppData\\Local\\Temp\\ipykernel_47756\\239949322.py:4: FutureWarning: 'H' is deprecated and will be removed in a future version, please use 'h' instead.\n",
      "  time_series=pd.date_range(start=start_time,end=end_time,freq='H')\n"
     ]
    }
   ],
   "source": [
    "start_time='2024-01-01 00:00:00'\n",
    "end_time='2024-12-31 23:00:00'\n",
    "\n",
    "time_series=pd.date_range(start=start_time,end=end_time,freq='H')"
   ]
  },
  {
   "cell_type": "code",
   "execution_count": 49,
   "metadata": {},
   "outputs": [
    {
     "data": {
      "text/plain": [
       "DatetimeIndex(['2024-01-01 00:00:00', '2024-01-01 01:00:00',\n",
       "               '2024-01-01 02:00:00', '2024-01-01 03:00:00',\n",
       "               '2024-01-01 04:00:00', '2024-01-01 05:00:00',\n",
       "               '2024-01-01 06:00:00', '2024-01-01 07:00:00',\n",
       "               '2024-01-01 08:00:00', '2024-01-01 09:00:00',\n",
       "               ...\n",
       "               '2024-12-31 14:00:00', '2024-12-31 15:00:00',\n",
       "               '2024-12-31 16:00:00', '2024-12-31 17:00:00',\n",
       "               '2024-12-31 18:00:00', '2024-12-31 19:00:00',\n",
       "               '2024-12-31 20:00:00', '2024-12-31 21:00:00',\n",
       "               '2024-12-31 22:00:00', '2024-12-31 23:00:00'],\n",
       "              dtype='datetime64[ns]', length=8784, freq='h')"
      ]
     },
     "execution_count": 49,
     "metadata": {},
     "output_type": "execute_result"
    }
   ],
   "source": [
    "time_series"
   ]
  },
  {
   "cell_type": "code",
   "execution_count": 50,
   "metadata": {},
   "outputs": [],
   "source": [
    "df.set_index('time',inplace=True)"
   ]
  },
  {
   "cell_type": "code",
   "execution_count": 51,
   "metadata": {},
   "outputs": [],
   "source": [
    "df_reindexed = df.reindex(time_series)"
   ]
  },
  {
   "cell_type": "code",
   "execution_count": 58,
   "metadata": {},
   "outputs": [],
   "source": [
    "df_reindexed.index.name = 'time'"
   ]
  },
  {
   "cell_type": "code",
   "execution_count": 59,
   "metadata": {},
   "outputs": [
    {
     "data": {
      "text/plain": [
       "(8784, 4)"
      ]
     },
     "execution_count": 59,
     "metadata": {},
     "output_type": "execute_result"
    }
   ],
   "source": [
    "df_reindexed.shape"
   ]
  },
  {
   "cell_type": "code",
   "execution_count": 34,
   "metadata": {},
   "outputs": [
    {
     "data": {
      "text/html": [
       "<div>\n",
       "<style scoped>\n",
       "    .dataframe tbody tr th:only-of-type {\n",
       "        vertical-align: middle;\n",
       "    }\n",
       "\n",
       "    .dataframe tbody tr th {\n",
       "        vertical-align: top;\n",
       "    }\n",
       "\n",
       "    .dataframe thead th {\n",
       "        text-align: right;\n",
       "    }\n",
       "</style>\n",
       "<table border=\"1\" class=\"dataframe\">\n",
       "  <thead>\n",
       "    <tr style=\"text-align: right;\">\n",
       "      <th></th>\n",
       "      <th>longitude</th>\n",
       "      <th>latitude</th>\n",
       "      <th>WS</th>\n",
       "      <th>YBG</th>\n",
       "    </tr>\n",
       "  </thead>\n",
       "  <tbody>\n",
       "  </tbody>\n",
       "</table>\n",
       "</div>"
      ],
      "text/plain": [
       "Empty DataFrame\n",
       "Columns: [longitude, latitude, WS, YBG]\n",
       "Index: []"
      ]
     },
     "execution_count": 34,
     "metadata": {},
     "output_type": "execute_result"
    }
   ],
   "source": [
    "df_reindexed[df_reindexed['YBG']==np.nan]"
   ]
  },
  {
   "cell_type": "code",
   "execution_count": 60,
   "metadata": {},
   "outputs": [
    {
     "data": {
      "text/html": [
       "<div>\n",
       "<style scoped>\n",
       "    .dataframe tbody tr th:only-of-type {\n",
       "        vertical-align: middle;\n",
       "    }\n",
       "\n",
       "    .dataframe tbody tr th {\n",
       "        vertical-align: top;\n",
       "    }\n",
       "\n",
       "    .dataframe thead th {\n",
       "        text-align: right;\n",
       "    }\n",
       "</style>\n",
       "<table border=\"1\" class=\"dataframe\">\n",
       "  <thead>\n",
       "    <tr style=\"text-align: right;\">\n",
       "      <th></th>\n",
       "      <th>longitude</th>\n",
       "      <th>latitude</th>\n",
       "      <th>WS</th>\n",
       "      <th>YBG</th>\n",
       "    </tr>\n",
       "    <tr>\n",
       "      <th>time</th>\n",
       "      <th></th>\n",
       "      <th></th>\n",
       "      <th></th>\n",
       "      <th></th>\n",
       "    </tr>\n",
       "  </thead>\n",
       "  <tbody>\n",
       "    <tr>\n",
       "      <th>2024-01-01 00:00:00</th>\n",
       "      <td>120.595167</td>\n",
       "      <td>39.500333</td>\n",
       "      <td>10.4</td>\n",
       "      <td>1.9</td>\n",
       "    </tr>\n",
       "    <tr>\n",
       "      <th>2024-01-01 01:00:00</th>\n",
       "      <td>120.594667</td>\n",
       "      <td>39.500000</td>\n",
       "      <td>10.1</td>\n",
       "      <td>1.6</td>\n",
       "    </tr>\n",
       "    <tr>\n",
       "      <th>2024-01-01 02:00:00</th>\n",
       "      <td>120.594667</td>\n",
       "      <td>39.500333</td>\n",
       "      <td>7.9</td>\n",
       "      <td>1.5</td>\n",
       "    </tr>\n",
       "    <tr>\n",
       "      <th>2024-01-01 03:00:00</th>\n",
       "      <td>120.595167</td>\n",
       "      <td>39.500500</td>\n",
       "      <td>6.9</td>\n",
       "      <td>1.2</td>\n",
       "    </tr>\n",
       "    <tr>\n",
       "      <th>2024-01-01 04:00:00</th>\n",
       "      <td>120.595000</td>\n",
       "      <td>39.500500</td>\n",
       "      <td>5.7</td>\n",
       "      <td>1.2</td>\n",
       "    </tr>\n",
       "  </tbody>\n",
       "</table>\n",
       "</div>"
      ],
      "text/plain": [
       "                      longitude   latitude    WS  YBG\n",
       "time                                                 \n",
       "2024-01-01 00:00:00  120.595167  39.500333  10.4  1.9\n",
       "2024-01-01 01:00:00  120.594667  39.500000  10.1  1.6\n",
       "2024-01-01 02:00:00  120.594667  39.500333   7.9  1.5\n",
       "2024-01-01 03:00:00  120.595167  39.500500   6.9  1.2\n",
       "2024-01-01 04:00:00  120.595000  39.500500   5.7  1.2"
      ]
     },
     "execution_count": 60,
     "metadata": {},
     "output_type": "execute_result"
    }
   ],
   "source": [
    "df.head()"
   ]
  },
  {
   "cell_type": "code",
   "execution_count": 61,
   "metadata": {},
   "outputs": [
    {
     "data": {
      "text/html": [
       "<div>\n",
       "<style scoped>\n",
       "    .dataframe tbody tr th:only-of-type {\n",
       "        vertical-align: middle;\n",
       "    }\n",
       "\n",
       "    .dataframe tbody tr th {\n",
       "        vertical-align: top;\n",
       "    }\n",
       "\n",
       "    .dataframe thead th {\n",
       "        text-align: right;\n",
       "    }\n",
       "</style>\n",
       "<table border=\"1\" class=\"dataframe\">\n",
       "  <thead>\n",
       "    <tr style=\"text-align: right;\">\n",
       "      <th></th>\n",
       "      <th>longitude</th>\n",
       "      <th>latitude</th>\n",
       "      <th>WS</th>\n",
       "      <th>YBG</th>\n",
       "    </tr>\n",
       "    <tr>\n",
       "      <th>time</th>\n",
       "      <th></th>\n",
       "      <th></th>\n",
       "      <th></th>\n",
       "      <th></th>\n",
       "    </tr>\n",
       "  </thead>\n",
       "  <tbody>\n",
       "    <tr>\n",
       "      <th>2024-01-01 00:00:00</th>\n",
       "      <td>120.595167</td>\n",
       "      <td>39.500333</td>\n",
       "      <td>10.4</td>\n",
       "      <td>1.9</td>\n",
       "    </tr>\n",
       "    <tr>\n",
       "      <th>2024-01-01 01:00:00</th>\n",
       "      <td>120.594667</td>\n",
       "      <td>39.500000</td>\n",
       "      <td>10.1</td>\n",
       "      <td>1.6</td>\n",
       "    </tr>\n",
       "    <tr>\n",
       "      <th>2024-01-01 02:00:00</th>\n",
       "      <td>120.594667</td>\n",
       "      <td>39.500333</td>\n",
       "      <td>7.9</td>\n",
       "      <td>1.5</td>\n",
       "    </tr>\n",
       "    <tr>\n",
       "      <th>2024-01-01 03:00:00</th>\n",
       "      <td>120.595167</td>\n",
       "      <td>39.500500</td>\n",
       "      <td>6.9</td>\n",
       "      <td>1.2</td>\n",
       "    </tr>\n",
       "    <tr>\n",
       "      <th>2024-01-01 04:00:00</th>\n",
       "      <td>120.595000</td>\n",
       "      <td>39.500500</td>\n",
       "      <td>5.7</td>\n",
       "      <td>1.2</td>\n",
       "    </tr>\n",
       "  </tbody>\n",
       "</table>\n",
       "</div>"
      ],
      "text/plain": [
       "                      longitude   latitude    WS  YBG\n",
       "time                                                 \n",
       "2024-01-01 00:00:00  120.595167  39.500333  10.4  1.9\n",
       "2024-01-01 01:00:00  120.594667  39.500000  10.1  1.6\n",
       "2024-01-01 02:00:00  120.594667  39.500333   7.9  1.5\n",
       "2024-01-01 03:00:00  120.595167  39.500500   6.9  1.2\n",
       "2024-01-01 04:00:00  120.595000  39.500500   5.7  1.2"
      ]
     },
     "execution_count": 61,
     "metadata": {},
     "output_type": "execute_result"
    }
   ],
   "source": [
    "df_reindexed.head()"
   ]
  },
  {
   "cell_type": "code",
   "execution_count": 63,
   "metadata": {},
   "outputs": [
    {
     "data": {
      "text/plain": [
       "DatetimeIndex(['2024-01-01 00:00:00', '2024-01-01 01:00:00',\n",
       "               '2024-01-01 02:00:00', '2024-01-01 03:00:00',\n",
       "               '2024-01-01 04:00:00', '2024-01-01 05:00:00',\n",
       "               '2024-01-01 06:00:00', '2024-01-01 07:00:00',\n",
       "               '2024-01-01 08:00:00', '2024-01-01 09:00:00',\n",
       "               ...\n",
       "               '2024-12-31 14:00:00', '2024-12-31 15:00:00',\n",
       "               '2024-12-31 16:00:00', '2024-12-31 17:00:00',\n",
       "               '2024-12-31 18:00:00', '2024-12-31 19:00:00',\n",
       "               '2024-12-31 20:00:00', '2024-12-31 21:00:00',\n",
       "               '2024-12-31 22:00:00', '2024-12-31 23:00:00'],\n",
       "              dtype='datetime64[ns]', name='time', length=8887, freq=None)"
      ]
     },
     "execution_count": 63,
     "metadata": {},
     "output_type": "execute_result"
    }
   ],
   "source": [
    "df.index"
   ]
  },
  {
   "cell_type": "code",
   "execution_count": 64,
   "metadata": {},
   "outputs": [
    {
     "data": {
      "text/plain": [
       "DatetimeIndex(['2024-01-01 00:00:00', '2024-01-01 01:00:00',\n",
       "               '2024-01-01 02:00:00', '2024-01-01 03:00:00',\n",
       "               '2024-01-01 04:00:00', '2024-01-01 05:00:00',\n",
       "               '2024-01-01 06:00:00', '2024-01-01 07:00:00',\n",
       "               '2024-01-01 08:00:00', '2024-01-01 09:00:00',\n",
       "               ...\n",
       "               '2024-12-31 14:00:00', '2024-12-31 15:00:00',\n",
       "               '2024-12-31 16:00:00', '2024-12-31 17:00:00',\n",
       "               '2024-12-31 18:00:00', '2024-12-31 19:00:00',\n",
       "               '2024-12-31 20:00:00', '2024-12-31 21:00:00',\n",
       "               '2024-12-31 22:00:00', '2024-12-31 23:00:00'],\n",
       "              dtype='datetime64[ns]', name='time', length=8784, freq='h')"
      ]
     },
     "execution_count": 64,
     "metadata": {},
     "output_type": "execute_result"
    }
   ],
   "source": [
    "df_reindexed.index"
   ]
  },
  {
   "cell_type": "markdown",
   "metadata": {},
   "source": [
    "ValueError: Can only compare identically-labeled (both index and columns) DataFrame objects"
   ]
  },
  {
   "cell_type": "code",
   "execution_count": 65,
   "metadata": {},
   "outputs": [],
   "source": [
    "# df_reindexed.compare(df)"
   ]
  },
  {
   "cell_type": "markdown",
   "metadata": {},
   "source": [
    "----"
   ]
  },
  {
   "cell_type": "markdown",
   "metadata": {},
   "source": [
    "#### step3: 找到对应的start_time"
   ]
  },
  {
   "cell_type": "code",
   "execution_count": 67,
   "metadata": {},
   "outputs": [
    {
     "data": {
      "text/plain": [
       "Timestamp('2024-01-01 00:00:00')"
      ]
     },
     "execution_count": 67,
     "metadata": {},
     "output_type": "execute_result"
    }
   ],
   "source": [
    "target_time=pd.to_datetime('2024-01-01 00:00:00')\n",
    "target_time"
   ]
  },
  {
   "cell_type": "code",
   "execution_count": 68,
   "metadata": {},
   "outputs": [
    {
     "data": {
      "text/plain": [
       "numpy.datetime64('2024-01-01T00:00:00')"
      ]
     },
     "execution_count": 68,
     "metadata": {},
     "output_type": "execute_result"
    }
   ],
   "source": [
    "target_time=np.datetime64('2024-01-01 00:00:00')\n",
    "target_time"
   ]
  },
  {
   "cell_type": "code",
   "execution_count": 69,
   "metadata": {},
   "outputs": [
    {
     "data": {
      "text/plain": [
       "0"
      ]
     },
     "execution_count": 69,
     "metadata": {},
     "output_type": "execute_result"
    }
   ],
   "source": [
    "index=df_reindexed.index.get_loc(target_time)\n",
    "index"
   ]
  },
  {
   "cell_type": "code",
   "execution_count": 70,
   "metadata": {},
   "outputs": [
    {
     "data": {
      "text/html": [
       "<div>\n",
       "<style scoped>\n",
       "    .dataframe tbody tr th:only-of-type {\n",
       "        vertical-align: middle;\n",
       "    }\n",
       "\n",
       "    .dataframe tbody tr th {\n",
       "        vertical-align: top;\n",
       "    }\n",
       "\n",
       "    .dataframe thead th {\n",
       "        text-align: right;\n",
       "    }\n",
       "</style>\n",
       "<table border=\"1\" class=\"dataframe\">\n",
       "  <thead>\n",
       "    <tr style=\"text-align: right;\">\n",
       "      <th></th>\n",
       "      <th>longitude</th>\n",
       "      <th>latitude</th>\n",
       "      <th>WS</th>\n",
       "      <th>YBG</th>\n",
       "    </tr>\n",
       "    <tr>\n",
       "      <th>time</th>\n",
       "      <th></th>\n",
       "      <th></th>\n",
       "      <th></th>\n",
       "      <th></th>\n",
       "    </tr>\n",
       "  </thead>\n",
       "  <tbody>\n",
       "    <tr>\n",
       "      <th>2024-01-01 00:00:00</th>\n",
       "      <td>120.595167</td>\n",
       "      <td>39.500333</td>\n",
       "      <td>10.4</td>\n",
       "      <td>1.9</td>\n",
       "    </tr>\n",
       "    <tr>\n",
       "      <th>2024-01-01 01:00:00</th>\n",
       "      <td>120.594667</td>\n",
       "      <td>39.500000</td>\n",
       "      <td>10.1</td>\n",
       "      <td>1.6</td>\n",
       "    </tr>\n",
       "    <tr>\n",
       "      <th>2024-01-01 02:00:00</th>\n",
       "      <td>120.594667</td>\n",
       "      <td>39.500333</td>\n",
       "      <td>7.9</td>\n",
       "      <td>1.5</td>\n",
       "    </tr>\n",
       "    <tr>\n",
       "      <th>2024-01-01 03:00:00</th>\n",
       "      <td>120.595167</td>\n",
       "      <td>39.500500</td>\n",
       "      <td>6.9</td>\n",
       "      <td>1.2</td>\n",
       "    </tr>\n",
       "    <tr>\n",
       "      <th>2024-01-01 04:00:00</th>\n",
       "      <td>120.595000</td>\n",
       "      <td>39.500500</td>\n",
       "      <td>5.7</td>\n",
       "      <td>1.2</td>\n",
       "    </tr>\n",
       "    <tr>\n",
       "      <th>...</th>\n",
       "      <td>...</td>\n",
       "      <td>...</td>\n",
       "      <td>...</td>\n",
       "      <td>...</td>\n",
       "    </tr>\n",
       "    <tr>\n",
       "      <th>2024-01-03 19:00:00</th>\n",
       "      <td>120.595500</td>\n",
       "      <td>39.500500</td>\n",
       "      <td>8.7</td>\n",
       "      <td>0.4</td>\n",
       "    </tr>\n",
       "    <tr>\n",
       "      <th>2024-01-03 20:00:00</th>\n",
       "      <td>120.595500</td>\n",
       "      <td>39.500833</td>\n",
       "      <td>9.1</td>\n",
       "      <td>0.6</td>\n",
       "    </tr>\n",
       "    <tr>\n",
       "      <th>2024-01-03 21:00:00</th>\n",
       "      <td>120.595500</td>\n",
       "      <td>39.500500</td>\n",
       "      <td>9.7</td>\n",
       "      <td>0.9</td>\n",
       "    </tr>\n",
       "    <tr>\n",
       "      <th>2024-01-03 22:00:00</th>\n",
       "      <td>120.595500</td>\n",
       "      <td>39.500500</td>\n",
       "      <td>10.8</td>\n",
       "      <td>1.0</td>\n",
       "    </tr>\n",
       "    <tr>\n",
       "      <th>2024-01-03 23:00:00</th>\n",
       "      <td>120.595500</td>\n",
       "      <td>39.500500</td>\n",
       "      <td>9.6</td>\n",
       "      <td>1.3</td>\n",
       "    </tr>\n",
       "  </tbody>\n",
       "</table>\n",
       "<p>72 rows × 4 columns</p>\n",
       "</div>"
      ],
      "text/plain": [
       "                      longitude   latitude    WS  YBG\n",
       "time                                                 \n",
       "2024-01-01 00:00:00  120.595167  39.500333  10.4  1.9\n",
       "2024-01-01 01:00:00  120.594667  39.500000  10.1  1.6\n",
       "2024-01-01 02:00:00  120.594667  39.500333   7.9  1.5\n",
       "2024-01-01 03:00:00  120.595167  39.500500   6.9  1.2\n",
       "2024-01-01 04:00:00  120.595000  39.500500   5.7  1.2\n",
       "...                         ...        ...   ...  ...\n",
       "2024-01-03 19:00:00  120.595500  39.500500   8.7  0.4\n",
       "2024-01-03 20:00:00  120.595500  39.500833   9.1  0.6\n",
       "2024-01-03 21:00:00  120.595500  39.500500   9.7  0.9\n",
       "2024-01-03 22:00:00  120.595500  39.500500  10.8  1.0\n",
       "2024-01-03 23:00:00  120.595500  39.500500   9.6  1.3\n",
       "\n",
       "[72 rows x 4 columns]"
      ]
     },
     "execution_count": 70,
     "metadata": {},
     "output_type": "execute_result"
    }
   ],
   "source": [
    "df_reindexed[index:index+72]"
   ]
  },
  {
   "cell_type": "code",
   "execution_count": 74,
   "metadata": {},
   "outputs": [
    {
     "name": "stderr",
     "output_type": "stream",
     "text": [
      "C:\\Users\\evase\\AppData\\Local\\Temp\\ipykernel_47756\\2992125679.py:1: FutureWarning: 'H' is deprecated and will be removed in a future version, please use 'h' instead.\n",
      "  issue_dt_list=pd.date_range(start=start_time, end=end_time, freq='12H')\n"
     ]
    },
    {
     "data": {
      "text/plain": [
       "DatetimeIndex(['2024-01-01 00:00:00', '2024-01-01 12:00:00',\n",
       "               '2024-01-02 00:00:00', '2024-01-02 12:00:00',\n",
       "               '2024-01-03 00:00:00', '2024-01-03 12:00:00',\n",
       "               '2024-01-04 00:00:00', '2024-01-04 12:00:00',\n",
       "               '2024-01-05 00:00:00', '2024-01-05 12:00:00',\n",
       "               ...\n",
       "               '2024-12-27 00:00:00', '2024-12-27 12:00:00',\n",
       "               '2024-12-28 00:00:00', '2024-12-28 12:00:00',\n",
       "               '2024-12-29 00:00:00', '2024-12-29 12:00:00',\n",
       "               '2024-12-30 00:00:00', '2024-12-30 12:00:00',\n",
       "               '2024-12-31 00:00:00', '2024-12-31 12:00:00'],\n",
       "              dtype='datetime64[ns]', length=732, freq='12h')"
      ]
     },
     "execution_count": 74,
     "metadata": {},
     "output_type": "execute_result"
    }
   ],
   "source": [
    "issue_dt_list=pd.date_range(start=start_time, end=end_time, freq='12H')\n",
    "issue_dt_list"
   ]
  },
  {
   "cell_type": "code",
   "execution_count": 73,
   "metadata": {},
   "outputs": [
    {
     "data": {
      "text/plain": [
       "DatetimeIndex(['2024-01-01 00:00:00', '2024-01-01 12:00:00',\n",
       "               '2024-01-02 00:00:00', '2024-01-02 12:00:00',\n",
       "               '2024-01-03 00:00:00', '2024-01-03 12:00:00',\n",
       "               '2024-01-04 00:00:00', '2024-01-04 12:00:00',\n",
       "               '2024-01-05 00:00:00', '2024-01-05 12:00:00',\n",
       "               ...\n",
       "               '2024-12-27 00:00:00', '2024-12-27 12:00:00',\n",
       "               '2024-12-28 00:00:00', '2024-12-28 12:00:00',\n",
       "               '2024-12-29 00:00:00', '2024-12-29 12:00:00',\n",
       "               '2024-12-30 00:00:00', '2024-12-30 12:00:00',\n",
       "               '2024-12-31 00:00:00', '2024-12-31 12:00:00'],\n",
       "              dtype='datetime64[ns]', length=732, freq='12h')"
      ]
     },
     "execution_count": 73,
     "metadata": {},
     "output_type": "execute_result"
    }
   ],
   "source": [
    "issue_dt_list"
   ]
  },
  {
   "cell_type": "markdown",
   "metadata": {},
   "source": [
    "-----"
   ]
  },
  {
   "cell_type": "markdown",
   "metadata": {},
   "source": [
    "只提取 `ws` 列"
   ]
  },
  {
   "cell_type": "code",
   "execution_count": 76,
   "metadata": {},
   "outputs": [
    {
     "data": {
      "text/plain": [
       "time\n",
       "2024-01-01 00:00:00    10.4\n",
       "2024-01-01 01:00:00    10.1\n",
       "2024-01-01 02:00:00     7.9\n",
       "2024-01-01 03:00:00     6.9\n",
       "2024-01-01 04:00:00     5.7\n",
       "Freq: h, Name: WS, dtype: float64"
      ]
     },
     "execution_count": 76,
     "metadata": {},
     "output_type": "execute_result"
    }
   ],
   "source": [
    "df_reindexed['WS'].head()"
   ]
  },
  {
   "cell_type": "code",
   "execution_count": 78,
   "metadata": {},
   "outputs": [
    {
     "data": {
      "text/plain": [
       "array([10.4, 10.1,  7.9,  6.9,  5.7])"
      ]
     },
     "execution_count": 78,
     "metadata": {},
     "output_type": "execute_result"
    }
   ],
   "source": [
    "df_reindexed['WS'].values[:5]"
   ]
  },
  {
   "cell_type": "code",
   "execution_count": null,
   "metadata": {},
   "outputs": [],
   "source": []
  }
 ],
 "metadata": {
  "kernelspec": {
   "display_name": "Python 3",
   "language": "python",
   "name": "python3"
  },
  "language_info": {
   "codemirror_mode": {
    "name": "ipython",
    "version": 3
   },
   "file_extension": ".py",
   "mimetype": "text/x-python",
   "name": "python",
   "nbconvert_exporter": "python",
   "pygments_lexer": "ipython3",
   "version": "3.9.21"
  }
 },
 "nbformat": 4,
 "nbformat_minor": 0
}
